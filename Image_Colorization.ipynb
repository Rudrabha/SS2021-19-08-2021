{
  "nbformat": 4,
  "nbformat_minor": 0,
  "metadata": {
    "colab": {
      "name": "Image_Colorization.ipynb",
      "provenance": [],
      "collapsed_sections": [],
      "include_colab_link": true
    },
    "kernelspec": {
      "name": "python3",
      "display_name": "Python 3"
    },
    "language_info": {
      "name": "python"
    },
    "accelerator": "GPU"
  },
  "cells": [
    {
      "cell_type": "markdown",
      "metadata": {
        "id": "view-in-github",
        "colab_type": "text"
      },
      "source": [
        "<a href=\"https://colab.research.google.com/github/Rudrabha/SS2021-19-08-2021/blob/main/Image_Colorization.ipynb\" target=\"_parent\"><img src=\"https://colab.research.google.com/assets/colab-badge.svg\" alt=\"Open In Colab\"/></a>"
      ]
    },
    {
      "cell_type": "markdown",
      "metadata": {
        "id": "kA26ItOODFRL"
      },
      "source": [
        "**Import Headers**"
      ]
    },
    {
      "cell_type": "markdown",
      "metadata": {
        "id": "H3AHwHkD0MJa"
      },
      "source": [
        "General Headers"
      ]
    },
    {
      "cell_type": "code",
      "metadata": {
        "colab": {
          "base_uri": "https://localhost:8080/"
        },
        "id": "UON2uQnNAuDz",
        "outputId": "bbb6de39-2550-4b07-c839-c4e8aaace5d7"
      },
      "source": [
        "import os\n",
        "!pip install wget\n",
        "import wget\n",
        "import shutil\n",
        "import glob\n",
        "import cv2\n",
        "import numpy as np\n",
        "import random\n",
        "from tqdm import tqdm\n",
        "import matplotlib.pyplot as plt"
      ],
      "execution_count": 1,
      "outputs": [
        {
          "output_type": "stream",
          "text": [
            "Collecting wget\n",
            "  Downloading wget-3.2.zip (10 kB)\n",
            "Building wheels for collected packages: wget\n",
            "  Building wheel for wget (setup.py) ... \u001b[?25l\u001b[?25hdone\n",
            "  Created wheel for wget: filename=wget-3.2-py3-none-any.whl size=9672 sha256=158faad761740dd33e4a2c1c7daaf4d2fe12c818894db0a4f8e438b87490c2f4\n",
            "  Stored in directory: /root/.cache/pip/wheels/a1/b6/7c/0e63e34eb06634181c63adacca38b79ff8f35c37e3c13e3c02\n",
            "Successfully built wget\n",
            "Installing collected packages: wget\n",
            "Successfully installed wget-3.2\n"
          ],
          "name": "stdout"
        }
      ]
    },
    {
      "cell_type": "markdown",
      "metadata": {
        "id": "knrDk5Y_0RaV"
      },
      "source": [
        "PyTorch based Headers"
      ]
    },
    {
      "cell_type": "code",
      "metadata": {
        "id": "6iqW-Yjhk5OL"
      },
      "source": [
        "from torch.utils.data import Dataset, DataLoader\n",
        "import torch \n",
        "from torch import nn\n",
        "from torch.nn import functional as F\n",
        "from torch import optim"
      ],
      "execution_count": 2,
      "outputs": []
    },
    {
      "cell_type": "markdown",
      "metadata": {
        "id": "5PoEZpF_0WQk"
      },
      "source": [
        "**SETTING UP THE DEVICE FOR GPU COMPUTATION**"
      ]
    },
    {
      "cell_type": "code",
      "metadata": {
        "colab": {
          "base_uri": "https://localhost:8080/"
        },
        "id": "xkrsI3rEl4A7",
        "outputId": "22238fa4-66de-40f6-f5a4-95cde6b4302a"
      },
      "source": [
        "use_cuda = torch.cuda.is_available()\n",
        "print('use_cuda: {}'.format(use_cuda))\n",
        "device = torch.device(\"cuda\" if use_cuda else \"cpu\")\n",
        "print(\"Device to be used : \",device)\n",
        "!nvidia-smi"
      ],
      "execution_count": 3,
      "outputs": [
        {
          "output_type": "stream",
          "text": [
            "use_cuda: True\n",
            "Device to be used :  cuda\n",
            "Thu Aug 19 06:03:07 2021       \n",
            "+-----------------------------------------------------------------------------+\n",
            "| NVIDIA-SMI 470.57.02    Driver Version: 460.32.03    CUDA Version: 11.2     |\n",
            "|-------------------------------+----------------------+----------------------+\n",
            "| GPU  Name        Persistence-M| Bus-Id        Disp.A | Volatile Uncorr. ECC |\n",
            "| Fan  Temp  Perf  Pwr:Usage/Cap|         Memory-Usage | GPU-Util  Compute M. |\n",
            "|                               |                      |               MIG M. |\n",
            "|===============================+======================+======================|\n",
            "|   0  Tesla K80           Off  | 00000000:00:04.0 Off |                    0 |\n",
            "| N/A   55C    P8    29W / 149W |      3MiB / 11441MiB |      0%      Default |\n",
            "|                               |                      |                  N/A |\n",
            "+-------------------------------+----------------------+----------------------+\n",
            "                                                                               \n",
            "+-----------------------------------------------------------------------------+\n",
            "| Processes:                                                                  |\n",
            "|  GPU   GI   CI        PID   Type   Process name                  GPU Memory |\n",
            "|        ID   ID                                                   Usage      |\n",
            "|=============================================================================|\n",
            "|  No running processes found                                                 |\n",
            "+-----------------------------------------------------------------------------+\n"
          ],
          "name": "stdout"
        }
      ]
    },
    {
      "cell_type": "markdown",
      "metadata": {
        "id": "A4D25A8gDK4r"
      },
      "source": [
        "**Setting up Data Path**"
      ]
    },
    {
      "cell_type": "code",
      "metadata": {
        "id": "qM68zdO2IRUH"
      },
      "source": [
        "#shutil.rmtree(\"/content/IMAGE_SUPER_RESOLVE_DATA/extracted_data\")"
      ],
      "execution_count": null,
      "outputs": []
    },
    {
      "cell_type": "code",
      "metadata": {
        "id": "jd4gLw6uDV-E"
      },
      "source": [
        "parent_folder = \"/content/IMAGE_SUPER_RESOLVE_DATA\"\n",
        "\n",
        "if os.path.isdir(parent_folder):\n",
        "    shutil.rmtree(parent_folder)\n",
        "os.mkdir(parent_folder)\n",
        "\n",
        "#Create Folder to download Raw Data\n",
        "raw_data_folder = os.path.join(parent_folder,\"raw_data\")\n",
        "extracted_data_folder = os.path.join(parent_folder,\"extracted_data\")\n",
        "\n",
        "if not os.path.isdir(raw_data_folder):\n",
        "    os.mkdir(raw_data_folder)\n",
        "\n",
        "if not os.path.isdir(extracted_data_folder):\n",
        "    os.mkdir(extracted_data_folder)\n",
        "\n",
        "image_data_folder = os.path.join(extracted_data_folder, \"images\")"
      ],
      "execution_count": 4,
      "outputs": []
    },
    {
      "cell_type": "markdown",
      "metadata": {
        "id": "0n-gyvN7EXMi"
      },
      "source": [
        "**Downloading Data**"
      ]
    },
    {
      "cell_type": "code",
      "metadata": {
        "colab": {
          "base_uri": "https://localhost:8080/"
        },
        "id": "TBnxcgceFT84",
        "outputId": "96b86e32-709d-4da4-f6a1-9d571e1c7efc"
      },
      "source": [
        "dataset_link = \"https://www.robots.ox.ac.uk/~vgg/data/pets/data/images.tar.gz\"\n",
        "raw_data = os.path.join(raw_data_folder, \"images.tar.gz\")\n",
        "print(\"Downloading Data\")\n",
        "wget.download(dataset_link, raw_data)\n",
        "print(\"Downloading Done\")"
      ],
      "execution_count": 5,
      "outputs": [
        {
          "output_type": "stream",
          "text": [
            "Downloading Data\n",
            "Downloading Done\n"
          ],
          "name": "stdout"
        }
      ]
    },
    {
      "cell_type": "markdown",
      "metadata": {
        "id": "pndT1J33JG1H"
      },
      "source": [
        "**Extracting the Data**"
      ]
    },
    {
      "cell_type": "code",
      "metadata": {
        "id": "dJgY_Nd3JGCQ"
      },
      "source": [
        "shutil.unpack_archive(raw_data, extracted_data_folder)"
      ],
      "execution_count": 6,
      "outputs": []
    },
    {
      "cell_type": "markdown",
      "metadata": {
        "id": "9ys5YOmXK2ZZ"
      },
      "source": [
        "**Listing the Dataset Features**"
      ]
    },
    {
      "cell_type": "code",
      "metadata": {
        "id": "x9_u9N2EKuEd"
      },
      "source": [
        "def get_image_address(image_data_folder):\n",
        "    image_address_list = []\n",
        "    image_address_list = glob.glob(os.path.join(image_data_folder, \"*.jpg\"))\n",
        "    print(\"Number of Files : \", len(image_address_list))\n",
        "    for img_addr in image_address_list:\n",
        "        try :\n",
        "            img = cv2.imread(img_addr)\n",
        "            x = img.shape\n",
        "        except :\n",
        "            image_address_list.remove(img_addr)\n",
        "            os.remove(img_addr)\n",
        "        \n",
        "    print(\"Number of Files after removing : \", len(image_address_list))\n",
        "\n",
        "    return image_address_list"
      ],
      "execution_count": 7,
      "outputs": []
    },
    {
      "cell_type": "markdown",
      "metadata": {
        "id": "0MJylShMkZQf"
      },
      "source": [
        "**MODULE_1 : Data Loader**"
      ]
    },
    {
      "cell_type": "code",
      "metadata": {
        "id": "iLBq5_zjkd9u"
      },
      "source": [
        "class DataGenerator(Dataset):\n",
        "\t\n",
        "    def __init__(self, image_list):\n",
        "        self.files = image_list[:10]\n",
        "        \n",
        "\n",
        "    def __len__(self):\n",
        "        return len(self.files)\n",
        "        \n",
        "\n",
        "    def __getitem__(self,idx):\n",
        "\n",
        "        #print(files[idx])\n",
        "        img = cv2.imread(self.files[idx])\n",
        "        high_res_img = cv2.resize(img,(512,512))\n",
        "        high_res_img = np.transpose(high_res_img, (2, 0, 1))\n",
        "        low_res_img = cv2.resize(img,(512, 512))\n",
        "        low_res_img = cv2.cvtColor(low_res_img, cv2.COLOR_BGR2GRAY)\n",
        "        low_res_img = np.reshape(low_res_img, (512, 512, 1))\n",
        "        low_res_img = np.transpose(low_res_img, (2, 0, 1))\n",
        "        return torch.FloatTensor(high_res_img/255.), torch.FloatTensor(low_res_img/255.)\n",
        "\t\t\n",
        "\t\n",
        "def load_data(image_list, batch_size=32, num_workers=10, shuffle=True):\n",
        "\n",
        "    dataset = DataGenerator(image_list)\n",
        "    data_loader = DataLoader(dataset, batch_size=batch_size, num_workers=num_workers, shuffle=shuffle)\n",
        "\n",
        "    return data_loader"
      ],
      "execution_count": 12,
      "outputs": []
    },
    {
      "cell_type": "markdown",
      "metadata": {
        "id": "dFkfUgl1amEk"
      },
      "source": [
        "**Checking the dataloader**"
      ]
    },
    {
      "cell_type": "code",
      "metadata": {
        "colab": {
          "base_uri": "https://localhost:8080/"
        },
        "id": "2xN3ua4CZh1l",
        "outputId": "74058035-4898-48f6-d0e7-d9c88e942375"
      },
      "source": [
        "parent_folder = \"/content/IMAGE_SUPER_RESOLVE_DATA\"\n",
        "extracted_data_folder = os.path.join(parent_folder, \"extracted_data\")\n",
        "image_data_folder = os.path.join(extracted_data_folder, \"images\")\n",
        "image_address_list = get_image_address(image_data_folder)\n",
        "random.shuffle(image_address_list)\n",
        "\n",
        "train_img_addr_list = image_address_list[:int(0.7*len(image_address_list))]\n",
        "train_loader = load_data(train_img_addr_list, batch_size=1, num_workers=2, shuffle=True)\n",
        "check = iter(train_loader)\n",
        "\n"
      ],
      "execution_count": 13,
      "outputs": [
        {
          "output_type": "stream",
          "text": [
            "Number of Files :  7384\n",
            "Number of Files after removing :  7384\n"
          ],
          "name": "stdout"
        }
      ]
    },
    {
      "cell_type": "code",
      "metadata": {
        "colab": {
          "base_uri": "https://localhost:8080/",
          "height": 221
        },
        "id": "Eg9j4kc-aPYj",
        "outputId": "1d9257d2-6e0b-4cfc-cde6-7eba87418bbb"
      },
      "source": [
        " GT, input_img = next(check)\n",
        "input_img = input_img.numpy()[0]\n",
        "GT = GT.numpy()[0]\n",
        "\n",
        "input_img = np.transpose(input_img, (1, 2, 0))\n",
        "GT = np.transpose(GT, (1, 2, 0))\n",
        "\n",
        "input_img = cv2.cvtColor(input_img, cv2.COLOR_BGR2RGB)\n",
        "GT = cv2.cvtColor(GT, cv2.COLOR_BGR2RGB)\n",
        "\n",
        "f, axarr = plt.subplots(1,2)\n",
        "axarr[0].imshow(input_img)\n",
        "axarr[1].imshow(GT)"
      ],
      "execution_count": 15,
      "outputs": [
        {
          "output_type": "execute_result",
          "data": {
            "text/plain": [
              "<matplotlib.image.AxesImage at 0x7fd45dfd0490>"
            ]
          },
          "metadata": {},
          "execution_count": 15
        },
        {
          "output_type": "display_data",
          "data": {
            "image/png": "[encoded data removed]",
            "text/plain": [
              "<Figure size 432x288 with 2 Axes>"
            ]
          },
          "metadata": {
            "needs_background": "light"
          }
        }
      ]
    },
    {
      "cell_type": "markdown",
      "metadata": {
        "id": "_Tf2iVeJvUDh"
      },
      "source": [
        "**MODULE 2 : Model Creation**"
      ]
    },
    {
      "cell_type": "markdown",
      "metadata": {
        "id": "-E8p0uaux9w_"
      },
      "source": [
        "**Conv2D**"
      ]
    },
    {
      "cell_type": "code",
      "metadata": {
        "id": "zEYELaVgvg5g"
      },
      "source": [
        "class Conv2d(nn.Module):\n",
        "    def __init__(self, cin, cout, kernel_size, stride, padding, residual=False, *args, **kwargs):\n",
        "        super().__init__(*args, **kwargs)\n",
        "        self.conv_block = nn.Sequential(\n",
        "                            nn.Conv2d(cin, cout, kernel_size, stride, padding),\n",
        "                            nn.BatchNorm2d(cout)\n",
        "                            )\n",
        "        self.act = nn.ReLU()\n",
        "        self.residual = residual\n",
        "\n",
        "    def forward(self, x):\n",
        "        out = self.conv_block(x)\n",
        "        if self.residual:\n",
        "            out += x\n",
        "        return self.act(out)"
      ],
      "execution_count": 16,
      "outputs": []
    },
    {
      "cell_type": "markdown",
      "metadata": {
        "id": "6bCywTOIyCIo"
      },
      "source": [
        "**Conv2D-T**"
      ]
    },
    {
      "cell_type": "code",
      "metadata": {
        "id": "h8a1mNGRx3lM"
      },
      "source": [
        "class Conv2dTranspose(nn.Module):\n",
        "    def __init__(self, cin, cout, kernel_size, stride, padding, output_padding=0, *args, **kwargs):\n",
        "        super().__init__(*args, **kwargs)\n",
        "        self.conv_block = nn.Sequential(\n",
        "                            nn.ConvTranspose2d(cin, cout, kernel_size, stride, padding, output_padding),\n",
        "                            nn.BatchNorm2d(cout)\n",
        "                            )\n",
        "        self.act = nn.ReLU()\n",
        "\n",
        "    def forward(self, x):\n",
        "        out = self.conv_block(x)\n",
        "        return self.act(out)"
      ],
      "execution_count": 17,
      "outputs": []
    },
    {
      "cell_type": "markdown",
      "metadata": {
        "id": "Eahg7WyeyHla"
      },
      "source": [
        "**Model**"
      ]
    },
    {
      "cell_type": "code",
      "metadata": {
        "id": "nAYmhm0RyMJy"
      },
      "source": [
        "class Image_Super_Resolve(nn.Module):\n",
        "    def __init__(self):\n",
        "        super(Image_Super_Resolve, self).__init__()\n",
        "\n",
        "        self.image_encoder = nn.Sequential(\n",
        "            Conv2d(1, 4, kernel_size=3, stride=1, padding=1),\n",
        "            \n",
        "            Conv2d(4, 8, kernel_size=3, stride=1, padding=1),\n",
        "            Conv2d(8, 8, kernel_size=3, stride=1, padding=1, residual=True),\n",
        "            Conv2d(8, 8, kernel_size=3, stride=1, padding=1, residual=True),\n",
        "            \n",
        "            Conv2d(8, 16, kernel_size=3, stride=1, padding=1),\n",
        "            Conv2d(16, 16, kernel_size=3, stride=1, padding=1, residual=True),\n",
        "            Conv2d(16, 16, kernel_size=3, stride=1, padding=1, residual=True),\n",
        "            \n",
        "            Conv2d(16, 32, kernel_size=3, stride=1, padding=1),\n",
        "            Conv2d(32, 32, kernel_size=3, stride=1, padding=1, residual=True),\n",
        "            Conv2d(32, 32, kernel_size=3, stride=1, padding=1, residual=True),      \n",
        "            )\n",
        "        self.image_decoder = nn.Sequential(\n",
        "\n",
        "            # Conv2dTranspose(32, 32, kernel_size=3, stride=2, padding=1, output_padding=1),\n",
        "\n",
        "            # Conv2dTranspose(32, 32, kernel_size=3, stride=2, padding=1, output_padding=1),\n",
        "            Conv2d(32, 32, kernel_size=3, stride=1, padding=1, residual=True),\n",
        "            Conv2d(32, 32, kernel_size=3, stride=1, padding=1, residual=True),\n",
        "            Conv2d(32, 3, kernel_size=3, stride=1, padding=1),\n",
        "            nn.Conv2d(3, 3, 1, 1, 0)\n",
        "            )\n",
        "        \n",
        "    def forward(self, face_image):\n",
        "\n",
        "        #print(\"Shape : \",face_image.shape)\n",
        "        face_embedding = self.image_encoder(face_image)\n",
        "        # print(\"Shape : \",face_embedding.shape)\n",
        "        decoded_face = self.image_decoder(face_embedding)\n",
        "        decoded_face = decoded_face + face_image\n",
        "\n",
        "        decoded_face = torch.sigmoid(decoded_face)\n",
        "        # print(\"Shape : \",decoded_face.shape)\n",
        "        return decoded_face\n"
      ],
      "execution_count": 18,
      "outputs": []
    },
    {
      "cell_type": "markdown",
      "metadata": {
        "id": "lkhAMdpk9Wmz"
      },
      "source": [
        "**Code to check the model shape**"
      ]
    },
    {
      "cell_type": "code",
      "metadata": {
        "id": "adkY3N__yHGs",
        "colab": {
          "base_uri": "https://localhost:8080/"
        },
        "outputId": "de661625-4e39-41ba-ffe5-9766ff696398"
      },
      "source": [
        "model = Image_Super_Resolve()\n",
        "data = torch.rand(2, 1, 512, 512)\n",
        "print(data.shape)\n",
        "decoded_data = model.forward(data)\n",
        "print (decoded_data.shape)"
      ],
      "execution_count": 19,
      "outputs": [
        {
          "output_type": "stream",
          "text": [
            "torch.Size([2, 1, 512, 512])\n",
            "torch.Size([2, 3, 512, 512])\n"
          ],
          "name": "stdout"
        }
      ]
    },
    {
      "cell_type": "code",
      "metadata": {
        "id": "iOBpnH7VnA4f"
      },
      "source": [
        "class PSNR:\n",
        "    \"\"\"Peak Signal to Noise Ratio\n",
        "    img1 and img2 have range [0, 255]\"\"\"\n",
        "\n",
        "    def __init__(self):\n",
        "        self.name = \"PSNR\"\n",
        "\n",
        "    @staticmethod\n",
        "    def __call__(img1, img2):\n",
        "        mse = torch.mean((img1 - img2) ** 2)\n",
        "        return 20 * torch.log10(255.0 / torch.sqrt(mse))\n"
      ],
      "execution_count": 20,
      "outputs": []
    },
    {
      "cell_type": "markdown",
      "metadata": {
        "id": "0wg7mYyzll_A"
      },
      "source": [
        "**MODULE 3 : Training**"
      ]
    },
    {
      "cell_type": "markdown",
      "metadata": {
        "id": "jzpzfp66WdvW"
      },
      "source": [
        "**SAVE CHECKPOINT**"
      ]
    },
    {
      "cell_type": "code",
      "metadata": {
        "id": "Bx72WwzNWhC7"
      },
      "source": [
        "def save_ckp(checkpoint, checkpoint_path):\n",
        "    torch.save(checkpoint, checkpoint_path)"
      ],
      "execution_count": 21,
      "outputs": []
    },
    {
      "cell_type": "markdown",
      "metadata": {
        "id": "4nsJKr9QWhrT"
      },
      "source": [
        "**LOAD CHECKPOINT**"
      ]
    },
    {
      "cell_type": "code",
      "metadata": {
        "id": "QYwO7XeWWmOJ"
      },
      "source": [
        "def load_ckp(checkpoint_path, model, model_opt):\n",
        "    checkpoint = torch.load(checkpoint_path)\n",
        "    model.load_state_dict(checkpoint['state_dict'])\n",
        "    model_opt.load_state_dict(checkpoint['optimizer'])\n",
        "    return model, model_opt, checkpoint['epoch']"
      ],
      "execution_count": 22,
      "outputs": []
    },
    {
      "cell_type": "markdown",
      "metadata": {
        "id": "sncpj_TLGqAO"
      },
      "source": [
        "**TRAIN EPOCH**"
      ]
    },
    {
      "cell_type": "code",
      "metadata": {
        "id": "MFbFHbMuBz6S"
      },
      "source": [
        "def train_epoch(train_loader, model, optimizer, epoch):\n",
        "\n",
        "    progress_bar = tqdm(enumerate(train_loader))\n",
        "    total_loss = 0.0\n",
        "    for step, (high_res_img, low_res_img) in progress_bar:\n",
        "      # if high_res_img is None and low_res_img is None:\n",
        "      #     continue\n",
        "      model.train()\n",
        "      high_res_img = high_res_img.to(device)\n",
        "      low_res_img = low_res_img.to(device)\n",
        "\n",
        "      optimizer.zero_grad()\n",
        "\n",
        "      pred_img = model.forward(low_res_img)\n",
        "\n",
        "      mse = nn.MSELoss()\n",
        "      psnr = PSNR()\n",
        "\n",
        "      mse_loss = mse(pred_img, high_res_img)\n",
        "      psnr_loss = psnr(pred_img*255.0, high_res_img*255.0)\n",
        "\n",
        "      loss = mse_loss\n",
        "\n",
        "      # print(loss)\n",
        "      loss.backward()\n",
        "      optimizer.step()\n",
        "\n",
        "      progress_bar.set_description(\n",
        "      \"Epoch : {} Training Loss : {} \".format(epoch, loss))\n",
        "\n",
        "\n",
        "    return model, optimizer"
      ],
      "execution_count": 23,
      "outputs": []
    },
    {
      "cell_type": "markdown",
      "metadata": {
        "id": "-MI5PZkyGx5J"
      },
      "source": [
        "**VAL EPOCH**"
      ]
    },
    {
      "cell_type": "code",
      "metadata": {
        "id": "Im6okWc4BvJn"
      },
      "source": [
        "def val_epoch(val_loader, model, optimizer, epoch):\n",
        "\n",
        "    progress_bar = tqdm(enumerate(val_loader))\n",
        "    total_loss = 0.0\n",
        "    for step, (high_res_img, low_res_img) in progress_bar:\n",
        "\n",
        "        try :\n",
        "            if high_res_img is None and low_res_img is None:\n",
        "                continue\n",
        "\n",
        "            high_res_img = high_res_img.to(device)\n",
        "            low_res_img = low_res_img.to(device)\n",
        "\n",
        "            mse = nn.MSELoss()\n",
        "            psnr = PSNR()\n",
        "\n",
        "            model.eval()\n",
        "            pred_img = model.forward(low_res_img)\n",
        "\n",
        "            mse_loss = mse(pred_img, high_res_img)\n",
        "            psnr_loss = psnr(pred_img*255.0, high_res_img*255.0)\n",
        "\n",
        "            loss = mse_loss\n",
        "\n",
        "            progress_bar.set_description(\n",
        "            \"Epoch : {} Validation Loss : {} \".format(epoch-1, loss))\n",
        "        except :\n",
        "            continue\n"
      ],
      "execution_count": 24,
      "outputs": []
    },
    {
      "cell_type": "markdown",
      "metadata": {
        "id": "HNpkA_8fG2cH"
      },
      "source": [
        "**TEST EPOCH**"
      ]
    },
    {
      "cell_type": "code",
      "metadata": {
        "id": "Mr6f0cRmBtXi"
      },
      "source": [
        "def test_epoch(test_loader, model, optimizer, epoch):\n",
        "\n",
        "    progress_bar = tqdm(enumerate(test_loader))\n",
        "    total_loss = 0.0\n",
        "\n",
        "    no_img_to_write = 10\n",
        "    inference_folder = \"/content/IMAGE_SUPER_RESOLVE_DATA/inference_data\"\n",
        "    if not os.path.isdir(inference_folder):\n",
        "        os.mkdir(inference_folder)\n",
        "\n",
        "    if not os.path.isdir(os.path.join(inference_folder, str(epoch))):\n",
        "        os.mkdir(os.path.join(inference_folder, str(epoch)))\n",
        "\n",
        "    for step, (high_res_img, low_res_img) in progress_bar:\n",
        "\n",
        "        try:\n",
        "            if high_res_img is None and low_res_img is None:\n",
        "                continue\n",
        "\n",
        "            high_res_img = high_res_img.to(device)\n",
        "            low_res_img = low_res_img.to(device)\n",
        "\n",
        "            mse = nn.MSELoss()\n",
        "            l1 = nn.L1Loss()\n",
        "            psnr = PSNR()\n",
        "\n",
        "            model.eval()\n",
        "            pred_img = model.forward(low_res_img)\n",
        "\n",
        "            #mse_loss = mse(pred_img, high_res_img)\n",
        "            #psnr_loss = psnr(pred_img*255.0, high_res_img*255.0)\n",
        "            l1_loss = l1(pred_img, high_res_img)\n",
        "\n",
        "            loss = l1_loss\n",
        "\n",
        "            progress_bar.set_description(\n",
        "            \"Epoch : {} Test Loss : {} \".format(epoch-1, loss))\n",
        "\n",
        "            if(step < no_img_to_write):\n",
        "\n",
        "                p_img = pred_img.cpu().numpy().transpose(0, 2, 3, 1) * 255\n",
        "                gt_img = high_res_img.cpu().numpy().transpose(0, 2, 3, 1) * 255\n",
        "                inp_img = low_res_img.cpu().numpy().transpose(0, 2, 3, 1) * 255\n",
        "\n",
        "                # cv2.imwrite(os.path.join(inference_folder, str(epoch),\n",
        "                #         \"img_\"+str(step)+\"_pred.jpg\"), p_img[0])\n",
        "                # cv2.imwrite(os.path.join(inference_folder, str(epoch),\n",
        "                #         \"img_\"+str(step)+\"_gt.jpg\"), gt_img[0])\n",
        "                # cv2.imwrite(os.path.join(inference_folder, str(epoch),\n",
        "                #         \"img_\"+str(step)+\"_inp.jpg\"), inp_img[0])\n",
        "        except :\n",
        "            continue"
      ],
      "execution_count": 27,
      "outputs": []
    },
    {
      "cell_type": "markdown",
      "metadata": {
        "id": "1t3jslWRG6sR"
      },
      "source": [
        "**Code to control the Train, Test & Val**"
      ]
    },
    {
      "cell_type": "code",
      "metadata": {
        "id": "WOj06fhkBfON"
      },
      "source": [
        "def train_val_test(train_loader, val_loader, test_loader, model, optimizer, n_epoch, resume):\n",
        "\n",
        "    checkpoint_path = \"/content/IMAGE_SUPER_RESOLVE_DATA/checkpoint.pt\"\n",
        "\n",
        "    epoch = 0\n",
        "    if resume:\n",
        "        model, optimizer, epoch = load_ckp(\n",
        "            checkpoint_path, model, optimizer)\n",
        "\n",
        "    while 1:\n",
        "        model, optimizer = train_epoch(train_loader, model, optimizer, epoch)\n",
        "        checkpoint = {'epoch': epoch+1, 'state_dict': model.state_dict(),\n",
        "                      'optimizer': optimizer.state_dict()}\n",
        "        save_ckp(checkpoint, checkpoint_path)\n",
        "        print(\"Checkpoint Saved\")\n",
        "        # model, optimizer, epoch = load_ckp(checkpoint_path, model, optimizer)\n",
        "        # print(\"Checkpoint Loaded\")\n",
        "        with torch.no_grad():\n",
        "            val_epoch(val_loader, model, optimizer, epoch)\n",
        "            test_epoch(test_loader, model, optimizer, epoch)"
      ],
      "execution_count": 26,
      "outputs": []
    },
    {
      "cell_type": "markdown",
      "metadata": {
        "id": "DjZ7fZkUWOO4"
      },
      "source": [
        "**MAIN FUNCTION**"
      ]
    },
    {
      "cell_type": "code",
      "metadata": {
        "id": "d80vuRX7nDFM"
      },
      "source": [
        "def main():\n",
        "\n",
        "    parent_folder = \"/content/IMAGE_SUPER_RESOLVE_DATA\"\n",
        "    extracted_data_folder = os.path.join(parent_folder, \"extracted_data\")\n",
        "    image_data_folder = os.path.join(extracted_data_folder, \"images\")\n",
        "    image_address_list = get_image_address(image_data_folder)\n",
        "    random.shuffle(image_address_list)\n",
        "\n",
        "    train_img_addr_list = image_address_list[:int(0.7*len(image_address_list))]\n",
        "    val_img_addr_list = image_address_list[len(train_img_addr_list):int(\n",
        "        len(train_img_addr_list) + 0.2*len(image_address_list))]\n",
        "    test_img_addr_list = image_address_list[len(\n",
        "        train_img_addr_list) + len(val_img_addr_list):]\n",
        "\n",
        "    print(\"Total Number of Images : \", len(image_address_list))\n",
        "    print(\"Train : {} Val : {} Test : {}\".format(\n",
        "        len(train_img_addr_list), len(val_img_addr_list), len(test_img_addr_list)))\n",
        "\n",
        "    train_loader = load_data(\n",
        "        train_img_addr_list, batch_size=2, num_workers=2, shuffle=True)\n",
        "    val_loader = load_data(val_img_addr_list, batch_size=2,\n",
        "                           num_workers=2, shuffle=True)\n",
        "    test_loader = load_data(\n",
        "        test_img_addr_list, batch_size=1, num_workers=2, shuffle=False)\n",
        "\n",
        "    model = Image_Super_Resolve()\n",
        "    model = model.to(device)\n",
        "    optimizer = optim.Adam(\n",
        "        [p for p in model.parameters() if p.requires_grad], lr=0.01)\n",
        "    n_epoch = 100\n",
        "    resume = False\n",
        "    train_val_test(train_loader, val_loader, test_loader,\n",
        "                   model, optimizer, n_epoch, resume)"
      ],
      "execution_count": 28,
      "outputs": []
    },
    {
      "cell_type": "markdown",
      "metadata": {
        "id": "vwxERyJxWTFz"
      },
      "source": [
        "**CALLING THE MAIN FUNCTION**"
      ]
    },
    {
      "cell_type": "code",
      "metadata": {
        "id": "R8TmBvZEDTp6",
        "colab": {
          "base_uri": "https://localhost:8080/",
          "height": 1000
        },
        "outputId": "6d66510d-0a6f-450d-fa5b-b5177bfdffb4"
      },
      "source": [
        "main()"
      ],
      "execution_count": 29,
      "outputs": [
        {
          "output_type": "stream",
          "text": [
            "Number of Files :  7384\n",
            "Number of Files after removing :  7384\n",
            "Total Number of Images :  7384\n",
            "Train : 5168 Val : 1476 Test : 740\n"
          ],
          "name": "stdout"
        },
        {
          "output_type": "stream",
          "text": [
            "Epoch : 0 Training Loss : 0.07829584926366806 : : 5it [00:02,  2.43it/s]"
          ],
          "name": "stderr"
        },
        {
          "output_type": "stream",
          "text": [
            "Checkpoint Saved\n"
          ],
          "name": "stdout"
        },
        {
          "output_type": "stream",
          "text": [
            "\n",
            "Epoch : -1 Validation Loss : 0.3999069631099701 : : 5it [00:00,  6.73it/s]\n",
            "Epoch : -1 Test Loss : 0.4609988331794739 : : 10it [00:00, 12.86it/s]\n",
            "Epoch : 0 Training Loss : 0.05630511790513992 : : 5it [00:01,  2.62it/s]"
          ],
          "name": "stderr"
        },
        {
          "output_type": "stream",
          "text": [
            "Checkpoint Saved\n"
          ],
          "name": "stdout"
        },
        {
          "output_type": "stream",
          "text": [
            "\n",
            "Epoch : -1 Validation Loss : 0.15192380547523499 : : 5it [00:00,  6.82it/s]\n",
            "Epoch : -1 Test Loss : 0.3490328788757324 : : 10it [00:00, 13.25it/s]\n",
            "Epoch : 0 Training Loss : 0.047594211995601654 : : 5it [00:01,  2.60it/s]"
          ],
          "name": "stderr"
        },
        {
          "output_type": "stream",
          "text": [
            "Checkpoint Saved\n"
          ],
          "name": "stdout"
        },
        {
          "output_type": "stream",
          "text": [
            "\n",
            "Epoch : -1 Validation Loss : 0.06959714740514755 : : 5it [00:00,  7.03it/s]\n",
            "Epoch : -1 Test Loss : 0.22591321170330048 : : 10it [00:00, 13.05it/s]\n",
            "Epoch : 0 Training Loss : 0.04837007075548172 : : 5it [00:01,  2.57it/s]"
          ],
          "name": "stderr"
        },
        {
          "output_type": "stream",
          "text": [
            "Checkpoint Saved\n"
          ],
          "name": "stdout"
        },
        {
          "output_type": "stream",
          "text": [
            "\n",
            "Epoch : -1 Validation Loss : 0.06871086359024048 : : 5it [00:00,  6.72it/s]\n",
            "Epoch : -1 Test Loss : 0.18924197554588318 : : 10it [00:00, 13.37it/s]\n",
            "Epoch : 0 Training Loss : 0.04076924920082092 : : 5it [00:01,  2.57it/s]"
          ],
          "name": "stderr"
        },
        {
          "output_type": "stream",
          "text": [
            "Checkpoint Saved\n"
          ],
          "name": "stdout"
        },
        {
          "output_type": "stream",
          "text": [
            "\n",
            "Epoch : -1 Validation Loss : 0.037644024938344955 : : 5it [00:00,  6.30it/s]\n",
            "Epoch : -1 Test Loss : 0.17227113246917725 : : 10it [00:00, 13.03it/s]\n",
            "Epoch : 0 Training Loss : 0.034246839582920074 : : 5it [00:01,  2.60it/s]"
          ],
          "name": "stderr"
        },
        {
          "output_type": "stream",
          "text": [
            "Checkpoint Saved\n"
          ],
          "name": "stdout"
        },
        {
          "output_type": "stream",
          "text": [
            "\n",
            "Epoch : -1 Validation Loss : 0.043083518743515015 : : 5it [00:00,  6.88it/s]\n",
            "Epoch : -1 Test Loss : 0.159893199801445 : : 10it [00:00, 13.27it/s]\n",
            "Epoch : 0 Training Loss : 0.02342107892036438 : : 5it [00:01,  2.61it/s]"
          ],
          "name": "stderr"
        },
        {
          "output_type": "stream",
          "text": [
            "Checkpoint Saved\n"
          ],
          "name": "stdout"
        },
        {
          "output_type": "stream",
          "text": [
            "\n",
            "Epoch : -1 Validation Loss : 0.03414853662252426 : : 5it [00:00,  6.63it/s]\n",
            "Epoch : -1 Test Loss : 0.14629341661930084 : : 10it [00:00, 13.22it/s]\n",
            "Epoch : 0 Training Loss : 0.03479604423046112 : : 5it [00:01,  2.58it/s]"
          ],
          "name": "stderr"
        },
        {
          "output_type": "stream",
          "text": [
            "Checkpoint Saved\n"
          ],
          "name": "stdout"
        },
        {
          "output_type": "stream",
          "text": [
            "\n",
            "Epoch : -1 Validation Loss : 0.03475822135806084 : : 5it [00:00,  7.00it/s]\n",
            "Epoch : -1 Test Loss : 0.1355130523443222 : : 10it [00:00, 13.24it/s]\n",
            "Epoch : 0 Training Loss : 0.021552659571170807 : : 5it [00:01,  2.57it/s]"
          ],
          "name": "stderr"
        },
        {
          "output_type": "stream",
          "text": [
            "Checkpoint Saved\n"
          ],
          "name": "stdout"
        },
        {
          "output_type": "stream",
          "text": [
            "\n",
            "Epoch : -1 Validation Loss : 0.02842155657708645 : : 5it [00:00,  7.17it/s]\n",
            "Epoch : -1 Test Loss : 0.11862193793058395 : : 10it [00:00, 13.04it/s]\n",
            "Epoch : 0 Training Loss : 0.019530709832906723 : : 5it [00:01,  2.60it/s]"
          ],
          "name": "stderr"
        },
        {
          "output_type": "stream",
          "text": [
            "Checkpoint Saved\n"
          ],
          "name": "stdout"
        },
        {
          "output_type": "stream",
          "text": [
            "\n",
            "Epoch : -1 Validation Loss : 0.024070754647254944 : : 5it [00:00,  6.79it/s]\n",
            "Epoch : -1 Test Loss : 0.09877555072307587 : : 10it [00:00, 12.99it/s]\n",
            "Epoch : 0 Training Loss : 0.017261836677789688 : : 5it [00:01,  2.57it/s]"
          ],
          "name": "stderr"
        },
        {
          "output_type": "stream",
          "text": [
            "Checkpoint Saved\n"
          ],
          "name": "stdout"
        },
        {
          "output_type": "stream",
          "text": [
            "\n",
            "Epoch : -1 Validation Loss : 0.0100233880802989 : : 5it [00:00,  7.07it/s]\n",
            "Epoch : -1 Test Loss : 0.09105490148067474 : : 10it [00:00, 13.22it/s]\n",
            "Epoch : 0 Training Loss : 0.014956777915358543 : : 3it [00:01,  1.98it/s]\n"
          ],
          "name": "stderr"
        },
        {
          "output_type": "error",
          "ename": "KeyboardInterrupt",
          "evalue": "ignored",
          "traceback": [
            "\u001b[0;31m---------------------------------------------------------------------------\u001b[0m",
            "\u001b[0;31mKeyboardInterrupt\u001b[0m                         Traceback (most recent call last)",
            "\u001b[0;32m<ipython-input-29-263240bbee7e>\u001b[0m in \u001b[0;36m<module>\u001b[0;34m()\u001b[0m\n\u001b[0;32m----> 1\u001b[0;31m \u001b[0mmain\u001b[0m\u001b[0;34m(\u001b[0m\u001b[0;34m)\u001b[0m\u001b[0;34m\u001b[0m\u001b[0;34m\u001b[0m\u001b[0m\n\u001b[0m",
            "\u001b[0;32m<ipython-input-28-68211ccbf721>\u001b[0m in \u001b[0;36mmain\u001b[0;34m()\u001b[0m\n\u001b[1;32m     31\u001b[0m     \u001b[0mresume\u001b[0m \u001b[0;34m=\u001b[0m \u001b[0;32mFalse\u001b[0m\u001b[0;34m\u001b[0m\u001b[0;34m\u001b[0m\u001b[0m\n\u001b[1;32m     32\u001b[0m     train_val_test(train_loader, val_loader, test_loader,\n\u001b[0;32m---> 33\u001b[0;31m                    model, optimizer, n_epoch, resume)\n\u001b[0m",
            "\u001b[0;32m<ipython-input-26-83bc21311899>\u001b[0m in \u001b[0;36mtrain_val_test\u001b[0;34m(train_loader, val_loader, test_loader, model, optimizer, n_epoch, resume)\u001b[0m\n\u001b[1;32m      9\u001b[0m \u001b[0;34m\u001b[0m\u001b[0m\n\u001b[1;32m     10\u001b[0m     \u001b[0;32mwhile\u001b[0m \u001b[0;36m1\u001b[0m\u001b[0;34m:\u001b[0m\u001b[0;34m\u001b[0m\u001b[0;34m\u001b[0m\u001b[0m\n\u001b[0;32m---> 11\u001b[0;31m         \u001b[0mmodel\u001b[0m\u001b[0;34m,\u001b[0m \u001b[0moptimizer\u001b[0m \u001b[0;34m=\u001b[0m \u001b[0mtrain_epoch\u001b[0m\u001b[0;34m(\u001b[0m\u001b[0mtrain_loader\u001b[0m\u001b[0;34m,\u001b[0m \u001b[0mmodel\u001b[0m\u001b[0;34m,\u001b[0m \u001b[0moptimizer\u001b[0m\u001b[0;34m,\u001b[0m \u001b[0mepoch\u001b[0m\u001b[0;34m)\u001b[0m\u001b[0;34m\u001b[0m\u001b[0;34m\u001b[0m\u001b[0m\n\u001b[0m\u001b[1;32m     12\u001b[0m         checkpoint = {'epoch': epoch+1, 'state_dict': model.state_dict(),\n\u001b[1;32m     13\u001b[0m                       'optimizer': optimizer.state_dict()}\n",
            "\u001b[0;32m<ipython-input-23-898827fc3bdb>\u001b[0m in \u001b[0;36mtrain_epoch\u001b[0;34m(train_loader, model, optimizer, epoch)\u001b[0m\n\u001b[1;32m     27\u001b[0m \u001b[0;34m\u001b[0m\u001b[0m\n\u001b[1;32m     28\u001b[0m       progress_bar.set_description(\n\u001b[0;32m---> 29\u001b[0;31m       \"Epoch : {} Training Loss : {} \".format(epoch, loss))\n\u001b[0m\u001b[1;32m     30\u001b[0m \u001b[0;34m\u001b[0m\u001b[0m\n\u001b[1;32m     31\u001b[0m \u001b[0;34m\u001b[0m\u001b[0m\n",
            "\u001b[0;32m/usr/local/lib/python3.7/dist-packages/torch/_tensor.py\u001b[0m in \u001b[0;36m__format__\u001b[0;34m(self, format_spec)\u001b[0m\n\u001b[1;32m    558\u001b[0m             \u001b[0;32mreturn\u001b[0m \u001b[0mhandle_torch_function\u001b[0m\u001b[0;34m(\u001b[0m\u001b[0mTensor\u001b[0m\u001b[0;34m.\u001b[0m\u001b[0m__format__\u001b[0m\u001b[0;34m,\u001b[0m \u001b[0;34m(\u001b[0m\u001b[0mself\u001b[0m\u001b[0;34m,\u001b[0m\u001b[0;34m)\u001b[0m\u001b[0;34m,\u001b[0m \u001b[0mself\u001b[0m\u001b[0;34m,\u001b[0m \u001b[0mformat_spec\u001b[0m\u001b[0;34m)\u001b[0m\u001b[0;34m\u001b[0m\u001b[0;34m\u001b[0m\u001b[0m\n\u001b[1;32m    559\u001b[0m         \u001b[0;32mif\u001b[0m \u001b[0mself\u001b[0m\u001b[0;34m.\u001b[0m\u001b[0mdim\u001b[0m\u001b[0;34m(\u001b[0m\u001b[0;34m)\u001b[0m \u001b[0;34m==\u001b[0m \u001b[0;36m0\u001b[0m\u001b[0;34m:\u001b[0m\u001b[0;34m\u001b[0m\u001b[0;34m\u001b[0m\u001b[0m\n\u001b[0;32m--> 560\u001b[0;31m             \u001b[0;32mreturn\u001b[0m \u001b[0mself\u001b[0m\u001b[0;34m.\u001b[0m\u001b[0mitem\u001b[0m\u001b[0;34m(\u001b[0m\u001b[0;34m)\u001b[0m\u001b[0;34m.\u001b[0m\u001b[0m__format__\u001b[0m\u001b[0;34m(\u001b[0m\u001b[0mformat_spec\u001b[0m\u001b[0;34m)\u001b[0m\u001b[0;34m\u001b[0m\u001b[0;34m\u001b[0m\u001b[0m\n\u001b[0m\u001b[1;32m    561\u001b[0m         \u001b[0;32mreturn\u001b[0m \u001b[0mobject\u001b[0m\u001b[0;34m.\u001b[0m\u001b[0m__format__\u001b[0m\u001b[0;34m(\u001b[0m\u001b[0mself\u001b[0m\u001b[0;34m,\u001b[0m \u001b[0mformat_spec\u001b[0m\u001b[0;34m)\u001b[0m\u001b[0;34m\u001b[0m\u001b[0;34m\u001b[0m\u001b[0m\n\u001b[1;32m    562\u001b[0m \u001b[0;34m\u001b[0m\u001b[0m\n",
            "\u001b[0;31mKeyboardInterrupt\u001b[0m: "
          ]
        }
      ]
    },
    {
      "cell_type": "markdown",
      "metadata": {
        "id": "0nb3p4nMZcue"
      },
      "source": [
        "**INFERENCE**"
      ]
    },
    {
      "cell_type": "code",
      "metadata": {
        "colab": {
          "base_uri": "https://localhost:8080/",
          "height": 167
        },
        "id": "7cGdz-wLZf0e",
        "outputId": "c59e892f-7840-4e6c-ad3d-ca912353a13a"
      },
      "source": [
        "image_folder = \"/content/IMAGE_SUPER_RESOLVE_DATA/extracted_data/images\"\n",
        "checkpoint_path = \"/content/IMAGE_SUPER_RESOLVE_DATA/checkpoint.pt\"\n",
        "\n",
        "img_addr = os.path.join(image_folder, \"Abyssinian_2.jpg\")\n",
        "img = cv2.imread(img_addr)\n",
        "high_res_img = cv2.resize(img,(512,512))\n",
        "low_res_img = cv2.resize(img,(512, 512))\n",
        "low_res_img = cv2.cvtColor(low_res_img, cv2.COLOR_BGR2GRAY)\n",
        "low_res_img = np.reshape(low_res_img, (512, 512, 1))\n",
        "\n",
        "low_res_img = np.transpose(low_res_img, (2, 0, 1))\n",
        "\n",
        "low_res_img = torch.FloatTensor(low_res_img/255.).unsqueeze(0)\n",
        "\n",
        "\n",
        "model = Image_Super_Resolve()\n",
        "model = model.to(device)\n",
        "optimizer = optim.Adam(\n",
        "        [p for p in model.parameters() if p.requires_grad], lr=0.01)\n",
        "model, optimizer, epoch = load_ckp(checkpoint_path, model, optimizer)\n",
        "low_res_img = low_res_img.to(device)\n",
        "pred_img = model.forward(low_res_img)\n",
        "\n",
        "p_img = pred_img.detach().cpu().numpy().transpose(0, 2, 3, 1)[0]\n",
        "\n",
        "# p_img = cv2.cvtColor(p_img, )\n",
        "inp_img = low_res_img.cpu().numpy().transpose(0, 2, 3, 1)[0]\n",
        "\n",
        "inp_img = np.reshape(inp_img, (512, 512))\n",
        "#p_img = np.reshape(p_img, (512, 512, 3))\n",
        "\n",
        "high_res_img = cv2.cvtColor(high_res_img, cv2.COLOR_BGR2RGB)\n",
        "p_img = cv2.cvtColor(p_img, cv2.COLOR_BGR2RGB)\n",
        "\n",
        "f, axarr = plt.subplots(1,3)\n",
        "axarr[0].imshow(inp_img, cmap='gray')\n",
        "axarr[1].imshow(p_img)\n",
        "axarr[2].imshow(high_res_img)\n",
        "\n",
        "# print(\"Ground Truth\")\n",
        "# plt.imshow(high_res_img[:,:,::-1])\n",
        "# plt.show()\n",
        "\n",
        "# print(\"Input Image\")\n",
        "# plt.imshow(inp_img[0, :,:,::-1])\n",
        "# plt.show()\n",
        "\n",
        "# print(\"Predicted Image\")\n",
        "# plt.imshow(p_img[0, :,:,::-1])\n",
        "# plt.show()"
      ],
      "execution_count": 46,
      "outputs": [
        {
          "output_type": "execute_result",
          "data": {
            "text/plain": [
              "<matplotlib.image.AxesImage at 0x7fd4563120d0>"
            ]
          },
          "metadata": {},
          "execution_count": 46
        },
        {
          "output_type": "display_data",
          "data": {
            "image/png": "[encoded data removed]",
            "text/plain": [
              "<Figure size 432x288 with 3 Axes>"
            ]
          },
          "metadata": {
            "needs_background": "light"
          }
        }
      ]
    }
  ]
}