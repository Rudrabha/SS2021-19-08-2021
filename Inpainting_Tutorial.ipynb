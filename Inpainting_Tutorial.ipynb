{
  "nbformat": 4,
  "nbformat_minor": 0,
  "metadata": {
    "colab": {
      "name": "Inpainting_Tutorial.ipynb",
      "provenance": [],
      "collapsed_sections": [],
      "include_colab_link": true
    },
    "kernelspec": {
      "name": "python3",
      "display_name": "Python 3"
    },
    "language_info": {
      "name": "python"
    },
    "accelerator": "GPU"
  },
  "cells": [
    {
      "cell_type": "markdown",
      "metadata": {
        "id": "view-in-github",
        "colab_type": "text"
      },
      "source": [
        "<a href=\"https://colab.research.google.com/github/Rudrabha/SS2021-19-08-2021/blob/main/Inpainting_Tutorial.ipynb\" target=\"_parent\"><img src=\"https://colab.research.google.com/assets/colab-badge.svg\" alt=\"Open In Colab\"/></a>"
      ]
    },
    {
      "cell_type": "markdown",
      "metadata": {
        "id": "kA26ItOODFRL"
      },
      "source": [
        "**Import Headers**"
      ]
    },
    {
      "cell_type": "code",
      "metadata": {
        "colab": {
          "base_uri": "https://localhost:8080/"
        },
        "id": "UON2uQnNAuDz",
        "outputId": "8512c15a-ca41-436c-bc9d-6044ee5851c0"
      },
      "source": [
        "import os\n",
        "!pip install wget\n",
        "import wget\n",
        "import shutil\n",
        "import glob\n",
        "import cv2\n",
        "import numpy as np\n",
        "import random\n",
        "from tqdm import tqdm\n",
        "import matplotlib.pyplot as plt\n",
        "import random"
      ],
      "execution_count": 1,
      "outputs": [
        {
          "output_type": "stream",
          "text": [
            "Collecting wget\n",
            "  Downloading wget-3.2.zip (10 kB)\n",
            "Building wheels for collected packages: wget\n",
            "  Building wheel for wget (setup.py) ... \u001b[?25l\u001b[?25hdone\n",
            "  Created wheel for wget: filename=wget-3.2-py3-none-any.whl size=9672 sha256=f3164d9fd7f8c946af0c985c1251247d10d2784b346472a4da7adad2f47c124f\n",
            "  Stored in directory: /root/.cache/pip/wheels/a1/b6/7c/0e63e34eb06634181c63adacca38b79ff8f35c37e3c13e3c02\n",
            "Successfully built wget\n",
            "Installing collected packages: wget\n",
            "Successfully installed wget-3.2\n"
          ],
          "name": "stdout"
        }
      ]
    },
    {
      "cell_type": "code",
      "metadata": {
        "id": "6iqW-Yjhk5OL"
      },
      "source": [
        "from torch.utils.data import Dataset, DataLoader\n",
        "import torch \n",
        "from torch import nn\n",
        "from torch.nn import functional as F\n",
        "from torch import optim"
      ],
      "execution_count": 2,
      "outputs": []
    },
    {
      "cell_type": "code",
      "metadata": {
        "colab": {
          "base_uri": "https://localhost:8080/"
        },
        "id": "xkrsI3rEl4A7",
        "outputId": "d5880007-26b6-41e6-f5c8-aba2d3a62fa4"
      },
      "source": [
        "use_cuda = torch.cuda.is_available()\n",
        "print('use_cuda: {}'.format(use_cuda))\n",
        "device = torch.device(\"cuda\" if use_cuda else \"cpu\")\n",
        "print(\"Device to be used : \",device)\n",
        "!nvidia-smi"
      ],
      "execution_count": 3,
      "outputs": [
        {
          "output_type": "stream",
          "text": [
            "use_cuda: True\n",
            "Device to be used :  cuda\n",
            "Wed Aug 18 17:38:51 2021       \n",
            "+-----------------------------------------------------------------------------+\n",
            "| NVIDIA-SMI 470.57.02    Driver Version: 460.32.03    CUDA Version: 11.2     |\n",
            "|-------------------------------+----------------------+----------------------+\n",
            "| GPU  Name        Persistence-M| Bus-Id        Disp.A | Volatile Uncorr. ECC |\n",
            "| Fan  Temp  Perf  Pwr:Usage/Cap|         Memory-Usage | GPU-Util  Compute M. |\n",
            "|                               |                      |               MIG M. |\n",
            "|===============================+======================+======================|\n",
            "|   0  Tesla K80           Off  | 00000000:00:04.0 Off |                    0 |\n",
            "| N/A   34C    P8    26W / 149W |      3MiB / 11441MiB |      0%      Default |\n",
            "|                               |                      |                  N/A |\n",
            "+-------------------------------+----------------------+----------------------+\n",
            "                                                                               \n",
            "+-----------------------------------------------------------------------------+\n",
            "| Processes:                                                                  |\n",
            "|  GPU   GI   CI        PID   Type   Process name                  GPU Memory |\n",
            "|        ID   ID                                                   Usage      |\n",
            "|=============================================================================|\n",
            "|  No running processes found                                                 |\n",
            "+-----------------------------------------------------------------------------+\n"
          ],
          "name": "stdout"
        }
      ]
    },
    {
      "cell_type": "markdown",
      "metadata": {
        "id": "A4D25A8gDK4r"
      },
      "source": [
        "**Setting up Data Path**"
      ]
    },
    {
      "cell_type": "code",
      "metadata": {
        "id": "qM68zdO2IRUH"
      },
      "source": [
        "#shutil.rmtree(\"/content/IMAGE_SUPER_RESOLVE_DATA/extracted_data\")"
      ],
      "execution_count": null,
      "outputs": []
    },
    {
      "cell_type": "code",
      "metadata": {
        "id": "jd4gLw6uDV-E"
      },
      "source": [
        "parent_folder = \"/content/IMAGE_SUPER_RESOLVE_DATA\"\n",
        "\n",
        "if os.path.isdir(parent_folder):\n",
        "    shutil.rmtree(parent_folder)\n",
        "os.mkdir(parent_folder)\n",
        "\n",
        "#Create Folder to download Raw Data\n",
        "raw_data_folder = os.path.join(parent_folder,\"raw_data\")\n",
        "extracted_data_folder = os.path.join(parent_folder,\"extracted_data\")\n",
        "\n",
        "if not os.path.isdir(raw_data_folder):\n",
        "    os.mkdir(raw_data_folder)\n",
        "\n",
        "if not os.path.isdir(extracted_data_folder):\n",
        "    os.mkdir(extracted_data_folder)\n",
        "\n",
        "image_data_folder = os.path.join(extracted_data_folder, \"images\")"
      ],
      "execution_count": 4,
      "outputs": []
    },
    {
      "cell_type": "markdown",
      "metadata": {
        "id": "0n-gyvN7EXMi"
      },
      "source": [
        "**Downloading Data**"
      ]
    },
    {
      "cell_type": "code",
      "metadata": {
        "colab": {
          "base_uri": "https://localhost:8080/"
        },
        "id": "TBnxcgceFT84",
        "outputId": "dc547a0b-6ae6-47a6-c88c-35685da05379"
      },
      "source": [
        "dataset_link = \"https://www.robots.ox.ac.uk/~vgg/data/pets/data/images.tar.gz\"\n",
        "raw_data = os.path.join(raw_data_folder, \"images.tar.gz\")\n",
        "print(\"Downloading Data\")\n",
        "wget.download(dataset_link, raw_data)\n",
        "print(\"Downloading Done\")"
      ],
      "execution_count": 5,
      "outputs": [
        {
          "output_type": "stream",
          "text": [
            "Downloading Data\n",
            "Downloading Done\n"
          ],
          "name": "stdout"
        }
      ]
    },
    {
      "cell_type": "markdown",
      "metadata": {
        "id": "pndT1J33JG1H"
      },
      "source": [
        "**Extracting the Data**"
      ]
    },
    {
      "cell_type": "code",
      "metadata": {
        "id": "dJgY_Nd3JGCQ"
      },
      "source": [
        "shutil.unpack_archive(raw_data, extracted_data_folder)"
      ],
      "execution_count": 6,
      "outputs": []
    },
    {
      "cell_type": "markdown",
      "metadata": {
        "id": "9ys5YOmXK2ZZ"
      },
      "source": [
        "**Listing the Dataset Features**"
      ]
    },
    {
      "cell_type": "code",
      "metadata": {
        "id": "x9_u9N2EKuEd"
      },
      "source": [
        "def get_image_address(image_data_folder):\n",
        "    image_address_list = []\n",
        "    image_address_list = glob.glob(os.path.join(image_data_folder, \"*.jpg\"))\n",
        "    print(\"Number of Files : \", len(image_address_list))\n",
        "    for img_addr in image_address_list:\n",
        "        try :\n",
        "            img = cv2.imread(img_addr)\n",
        "            x = img.shape\n",
        "        except :\n",
        "            image_address_list.remove(img_addr)\n",
        "            os.remove(img_addr)\n",
        "        \n",
        "    print(\"Number of Files after removing : \", len(image_address_list))\n",
        "\n",
        "    return image_address_list"
      ],
      "execution_count": 7,
      "outputs": []
    },
    {
      "cell_type": "markdown",
      "metadata": {
        "id": "0MJylShMkZQf"
      },
      "source": [
        "**MODULE_1 : Data Loader**"
      ]
    },
    {
      "cell_type": "code",
      "metadata": {
        "id": "iLBq5_zjkd9u"
      },
      "source": [
        "class DataGenerator(Dataset):\n",
        "\t\n",
        "    def __init__(self, image_list):\n",
        "        self.files = image_list\n",
        "\n",
        "        \n",
        "\n",
        "    def __len__(self):\n",
        "        return len(self.files)\n",
        "        \n",
        "\n",
        "    def __getitem__(self,idx):\n",
        "\n",
        "        #print(files[idx])\n",
        "        img = cv2.imread(self.files[idx])\n",
        "        high_res_img = cv2.resize(img,(512,512))\n",
        "\n",
        "        start_row = random.randint(0, high_res_img.shape[0]-128)\n",
        "        start_col = random.randint(0, high_res_img.shape[1]-128)\n",
        "\n",
        "        input_image = high_res_img.copy()\n",
        "        input_image[start_row:start_row+128, start_col:start_col+128] = 0 # Randomly creating a 128x128 black spot on the image\n",
        "\n",
        "        high_res_img = np.transpose(high_res_img, (2, 0, 1))/255.\n",
        "        input_image = np.transpose(input_image, (2, 0, 1))/255.\n",
        "        return torch.FloatTensor(high_res_img), torch.FloatTensor(input_image)\n",
        "\t\t\n",
        "\t\n",
        "def load_data(image_list, batch_size=32, num_workers=10, shuffle=True):\n",
        "\n",
        "    dataset = DataGenerator(image_list)\n",
        "    data_loader = DataLoader(dataset, batch_size=batch_size, num_workers=num_workers, shuffle=shuffle)\n",
        "\n",
        "    return data_loader"
      ],
      "execution_count": 30,
      "outputs": []
    },
    {
      "cell_type": "markdown",
      "metadata": {
        "id": "dFkfUgl1amEk"
      },
      "source": [
        "**Checking the dataloader**"
      ]
    },
    {
      "cell_type": "code",
      "metadata": {
        "colab": {
          "base_uri": "https://localhost:8080/"
        },
        "id": "2xN3ua4CZh1l",
        "outputId": "e4305fa3-93f9-482c-f082-8af46b3e4a4f"
      },
      "source": [
        "parent_folder = \"/content/IMAGE_SUPER_RESOLVE_DATA\"\n",
        "extracted_data_folder = os.path.join(parent_folder, \"extracted_data\")\n",
        "image_data_folder = os.path.join(extracted_data_folder, \"images\")\n",
        "image_address_list = get_image_address(image_data_folder)\n",
        "random.shuffle(image_address_list)\n",
        "\n",
        "train_img_addr_list = image_address_list[:int(0.7*len(image_address_list))]\n",
        "train_loader = load_data(train_img_addr_list, batch_size=1, num_workers=2, shuffle=True)\n",
        "check = iter(train_loader)\n",
        "\n"
      ],
      "execution_count": 31,
      "outputs": [
        {
          "output_type": "stream",
          "text": [
            "Number of Files :  7384\n",
            "Number of Files after removing :  7384\n"
          ],
          "name": "stdout"
        }
      ]
    },
    {
      "cell_type": "code",
      "metadata": {
        "colab": {
          "base_uri": "https://localhost:8080/",
          "height": 221
        },
        "id": "Eg9j4kc-aPYj",
        "outputId": "3205daf1-9f98-4aa0-a81c-2c2776c32454"
      },
      "source": [
        "GT, input_img = next(check)\n",
        "input_img = input_img.numpy()[0]\n",
        "GT = GT.numpy()[0]\n",
        "\n",
        "input_img = np.transpose(input_img, (1, 2, 0))\n",
        "GT = np.transpose(GT, (1, 2, 0))\n",
        "\n",
        "input_img = cv2.cvtColor(input_img, cv2.COLOR_BGR2RGB)\n",
        "GT = cv2.cvtColor(GT, cv2.COLOR_BGR2RGB)\n",
        "\n",
        "f, axarr = plt.subplots(1,2)\n",
        "axarr[0].imshow(input_img)\n",
        "axarr[1].imshow(GT)"
      ],
      "execution_count": 40,
      "outputs": [
        {
          "output_type": "execute_result",
          "data": {
            "text/plain": [
              "<matplotlib.image.AxesImage at 0x7fafab4367d0>"
            ]
          },
          "metadata": {},
          "execution_count": 40
        },
        {
          "output_type": "display_data",
          "data": {
            "image/png": "[encoded data removed]",
            "text/plain": [
              "<Figure size 432x288 with 2 Axes>"
            ]
          },
          "metadata": {
            "needs_background": "light"
          }
        }
      ]
    },
    {
      "cell_type": "markdown",
      "metadata": {
        "id": "_Tf2iVeJvUDh"
      },
      "source": [
        "**MODULE 2 : Model Creation**"
      ]
    },
    {
      "cell_type": "markdown",
      "metadata": {
        "id": "-E8p0uaux9w_"
      },
      "source": [
        "**Conv2D**"
      ]
    },
    {
      "cell_type": "code",
      "metadata": {
        "id": "zEYELaVgvg5g"
      },
      "source": [
        "class Conv2d(nn.Module):\n",
        "    def __init__(self, cin, cout, kernel_size, stride, padding, residual=False, *args, **kwargs):\n",
        "        super().__init__(*args, **kwargs)\n",
        "        self.conv_block = nn.Sequential(\n",
        "                            nn.Conv2d(cin, cout, kernel_size, stride, padding),\n",
        "                            nn.BatchNorm2d(cout)\n",
        "                            )\n",
        "        self.act = nn.ReLU()\n",
        "        self.residual = residual\n",
        "\n",
        "    def forward(self, x):\n",
        "        out = self.conv_block(x)\n",
        "        if self.residual:\n",
        "            out += x\n",
        "        return self.act(out)"
      ],
      "execution_count": 9,
      "outputs": []
    },
    {
      "cell_type": "markdown",
      "metadata": {
        "id": "6bCywTOIyCIo"
      },
      "source": [
        "**Conv2D-T**"
      ]
    },
    {
      "cell_type": "code",
      "metadata": {
        "id": "h8a1mNGRx3lM"
      },
      "source": [
        "class Conv2dTranspose(nn.Module):\n",
        "    def __init__(self, cin, cout, kernel_size, stride, padding, output_padding=0, *args, **kwargs):\n",
        "        super().__init__(*args, **kwargs)\n",
        "        self.conv_block = nn.Sequential(\n",
        "                            nn.ConvTranspose2d(cin, cout, kernel_size, stride, padding, output_padding),\n",
        "                            nn.BatchNorm2d(cout)\n",
        "                            )\n",
        "        self.act = nn.ReLU()\n",
        "\n",
        "    def forward(self, x):\n",
        "        out = self.conv_block(x)\n",
        "        return self.act(out)"
      ],
      "execution_count": 10,
      "outputs": []
    },
    {
      "cell_type": "markdown",
      "metadata": {
        "id": "Eahg7WyeyHla"
      },
      "source": [
        "**Model**"
      ]
    },
    {
      "cell_type": "code",
      "metadata": {
        "id": "nAYmhm0RyMJy"
      },
      "source": [
        "class Image_Super_Resolve(nn.Module):\n",
        "    def __init__(self):\n",
        "        super(Image_Super_Resolve, self).__init__()\n",
        "\n",
        "        self.image_encoder = nn.Sequential(\n",
        "            Conv2d(3, 4, kernel_size=3, stride=1, padding=1),\n",
        "            \n",
        "            Conv2d(4, 8, kernel_size=3, stride=1, padding=1),\n",
        "            Conv2d(8, 8, kernel_size=3, stride=1, padding=1, residual=True),\n",
        "            Conv2d(8, 8, kernel_size=3, stride=1, padding=1, residual=True),\n",
        "            \n",
        "            Conv2d(8, 16, kernel_size=3, stride=1, padding=1),\n",
        "            Conv2d(16, 16, kernel_size=3, stride=1, padding=1, residual=True),\n",
        "            Conv2d(16, 16, kernel_size=3, stride=1, padding=1, residual=True),\n",
        "            \n",
        "            Conv2d(16, 32, kernel_size=3, stride=1, padding=1),\n",
        "            Conv2d(32, 32, kernel_size=3, stride=1, padding=1, residual=True),\n",
        "            Conv2d(32, 32, kernel_size=3, stride=1, padding=1, residual=True),      \n",
        "            )\n",
        "        self.image_decoder = nn.Sequential(\n",
        "\n",
        "            # Conv2dTranspose(32, 32, kernel_size=3, stride=2, padding=1, output_padding=1),\n",
        "\n",
        "            # Conv2dTranspose(32, 32, kernel_size=3, stride=2, padding=1, output_padding=1),\n",
        "            Conv2d(32, 32, kernel_size=3, stride=1, padding=1, residual=True),\n",
        "            Conv2d(32, 32, kernel_size=3, stride=1, padding=1, residual=True),\n",
        "            Conv2d(32, 3, kernel_size=3, stride=1, padding=1),\n",
        "            )\n",
        "        \n",
        "    def forward(self, face_image):\n",
        "\n",
        "        #print(\"Shape : \",face_image.shape)\n",
        "        face_embedding = self.image_encoder(face_image)\n",
        "        # print(\"Shape : \",face_embedding.shape)\n",
        "        decoded_face = self.image_decoder(face_embedding)\n",
        "        decoded_face += face_image\n",
        "\n",
        "        decoded_face = torch.sigmoid(decoded_face)\n",
        "        # print(\"Shape : \",decoded_face.shape)\n",
        "        return decoded_face\n"
      ],
      "execution_count": 11,
      "outputs": []
    },
    {
      "cell_type": "markdown",
      "metadata": {
        "id": "lkhAMdpk9Wmz"
      },
      "source": [
        "**Code to check the model shape**"
      ]
    },
    {
      "cell_type": "code",
      "metadata": {
        "id": "adkY3N__yHGs",
        "colab": {
          "base_uri": "https://localhost:8080/"
        },
        "outputId": "bf39de64-9884-49b0-e112-9242585827d2"
      },
      "source": [
        "model = Image_Super_Resolve()\n",
        "data = torch.rand(2, 3, 512, 512)\n",
        "print(data.shape)\n",
        "decoded_data = model.forward(data)\n",
        "print (decoded_data.shape)"
      ],
      "execution_count": 12,
      "outputs": [
        {
          "output_type": "stream",
          "text": [
            "torch.Size([2, 3, 512, 512])\n",
            "torch.Size([2, 3, 512, 512])\n"
          ],
          "name": "stdout"
        }
      ]
    },
    {
      "cell_type": "code",
      "metadata": {
        "id": "iOBpnH7VnA4f"
      },
      "source": [
        "class PSNR:\n",
        "    \"\"\"Peak Signal to Noise Ratio\n",
        "    img1 and img2 have range [0, 255]\"\"\"\n",
        "\n",
        "    def __init__(self):\n",
        "        self.name = \"PSNR\"\n",
        "\n",
        "    @staticmethod\n",
        "    def __call__(img1, img2):\n",
        "        mse = torch.mean((img1 - img2) ** 2)\n",
        "        return 20 * torch.log10(255.0 / torch.sqrt(mse))\n"
      ],
      "execution_count": 13,
      "outputs": []
    },
    {
      "cell_type": "markdown",
      "metadata": {
        "id": "0wg7mYyzll_A"
      },
      "source": [
        "**MODULE 3 : Training**"
      ]
    },
    {
      "cell_type": "markdown",
      "metadata": {
        "id": "sncpj_TLGqAO"
      },
      "source": [
        "**TRAIN EPOCH**"
      ]
    },
    {
      "cell_type": "code",
      "metadata": {
        "id": "MFbFHbMuBz6S"
      },
      "source": [
        "def train_epoch(train_loader, model, optimizer, epoch):\n",
        "\n",
        "    progress_bar = tqdm(enumerate(train_loader))\n",
        "    total_loss = 0.0\n",
        "    for step, (high_res_img, low_res_img) in progress_bar:\n",
        "\n",
        "        try :\n",
        "            if high_res_img is None and low_res_img is None:\n",
        "                continue\n",
        "            model.train()\n",
        "            high_res_img = high_res_img.to(device)\n",
        "            low_res_img = low_res_img.to(device)\n",
        "\n",
        "            optimizer.zero_grad()\n",
        "\n",
        "            pred_img = model.forward(low_res_img)\n",
        "\n",
        "            mse = nn.MSELoss()\n",
        "            psnr = PSNR()\n",
        "\n",
        "            mse_loss = mse(pred_img, high_res_img)\n",
        "            psnr_loss = psnr(pred_img*255.0, high_res_img*255.0)\n",
        "\n",
        "            loss = mse_loss\n",
        "\n",
        "            # print(loss)\n",
        "            loss.backward()\n",
        "            optimizer.step()\n",
        "\n",
        "            progress_bar.set_description(\n",
        "            \"Epoch : {} Training Loss : {} \".format(epoch, loss))\n",
        "        except:\n",
        "            continue\n",
        "\n",
        "    return model, optimizer"
      ],
      "execution_count": 14,
      "outputs": []
    },
    {
      "cell_type": "markdown",
      "metadata": {
        "id": "-MI5PZkyGx5J"
      },
      "source": [
        "**Validation Loop**"
      ]
    },
    {
      "cell_type": "code",
      "metadata": {
        "id": "Im6okWc4BvJn"
      },
      "source": [
        "def val_epoch(val_loader, model, optimizer, epoch):\n",
        "\n",
        "    progress_bar = tqdm(enumerate(val_loader))\n",
        "    total_loss = 0.0\n",
        "    for step, (high_res_img, low_res_img) in progress_bar:\n",
        "\n",
        "        try :\n",
        "            if high_res_img is None and low_res_img is None:\n",
        "                continue\n",
        "\n",
        "            high_res_img = high_res_img.to(device)\n",
        "            low_res_img = low_res_img.to(device)\n",
        "\n",
        "            mse = nn.MSELoss()\n",
        "            psnr = PSNR()\n",
        "\n",
        "            model.eval()\n",
        "            pred_img = model.forward(low_res_img)\n",
        "\n",
        "            mse_loss = mse(pred_img, high_res_img)\n",
        "            psnr_loss = psnr(pred_img*255.0, high_res_img*255.0)\n",
        "\n",
        "            loss = mse_loss\n",
        "\n",
        "            progress_bar.set_description(\n",
        "            \"Epoch : {} Validation Loss : {} \".format(epoch, loss))\n",
        "        except :\n",
        "            continue\n"
      ],
      "execution_count": 15,
      "outputs": []
    },
    {
      "cell_type": "markdown",
      "metadata": {
        "id": "HNpkA_8fG2cH"
      },
      "source": [
        "**Test Loop**"
      ]
    },
    {
      "cell_type": "code",
      "metadata": {
        "id": "Mr6f0cRmBtXi"
      },
      "source": [
        "def test_epoch(test_loader, model, optimizer, epoch):\n",
        "\n",
        "    progress_bar = tqdm(enumerate(test_loader))\n",
        "    total_loss = 0.0\n",
        "\n",
        "    no_img_to_write = 10\n",
        "    inference_folder = \"/content/IMAGE_SUPER_RESOLVE_DATA/inference_data\"\n",
        "    if not os.path.isdir(inference_folder):\n",
        "        os.mkdir(inference_folder)\n",
        "\n",
        "    if not os.path.isdir(os.path.join(inference_folder, str(epoch))):\n",
        "        os.mkdir(os.path.join(inference_folder, str(epoch)))\n",
        "\n",
        "    for step, (high_res_img, low_res_img) in progress_bar:\n",
        "\n",
        "        try:\n",
        "            if high_res_img is None and low_res_img is None:\n",
        "                continue\n",
        "\n",
        "            high_res_img = high_res_img.to(device)\n",
        "            low_res_img = low_res_img.to(device)\n",
        "\n",
        "            mse = nn.MSELoss()\n",
        "            l1 = nn.L1Loss()\n",
        "            psnr = PSNR()\n",
        "\n",
        "            model.eval()\n",
        "            pred_img = model.forward(low_res_img)\n",
        "\n",
        "            #mse_loss = mse(pred_img, high_res_img)\n",
        "            #psnr_loss = psnr(pred_img*255.0, high_res_img*255.0)\n",
        "            l1_loss = l1(pred_img, high_res_img)\n",
        "\n",
        "            loss = l1_loss\n",
        "\n",
        "            progress_bar.set_description(\n",
        "            \"Epoch : {} Test Loss : {} \".format(epoch, loss))\n",
        "\n",
        "            if(step < no_img_to_write):\n",
        "\n",
        "                p_img = pred_img.cpu().numpy().transpose(0, 2, 3, 1) * 255\n",
        "                gt_img = high_res_img.cpu().numpy().transpose(0, 2, 3, 1) * 255\n",
        "                inp_img = low_res_img.cpu().numpy().transpose(0, 2, 3, 1) * 255\n",
        "\n",
        "                cv2.imwrite(os.path.join(inference_folder, str(epoch),\n",
        "                        \"img_\"+str(step)+\"_pred.jpg\"), p_img[0])\n",
        "                cv2.imwrite(os.path.join(inference_folder, str(epoch),\n",
        "                        \"img_\"+str(step)+\"_gt.jpg\"), gt_img[0])\n",
        "                cv2.imwrite(os.path.join(inference_folder, str(epoch),\n",
        "                        \"img_\"+str(step)+\"_inp.jpg\"), inp_img[0])\n",
        "        except :\n",
        "            continue"
      ],
      "execution_count": 16,
      "outputs": []
    },
    {
      "cell_type": "markdown",
      "metadata": {
        "id": "1t3jslWRG6sR"
      },
      "source": [
        "**Code to **"
      ]
    },
    {
      "cell_type": "code",
      "metadata": {
        "id": "WOj06fhkBfON"
      },
      "source": [
        "def train_val_test(train_loader, val_loader, test_loader, model, optimizer, n_epoch, resume):\n",
        "\n",
        "    checkpoint_path = \"/content/IMAGE_SUPER_RESOLVE_DATA/checkpoint.pt\"\n",
        "\n",
        "    epoch = 0\n",
        "    if resume:\n",
        "        model, optimizer, epoch = load_ckp(\n",
        "            checkpoint_path, model, optimizer)\n",
        "\n",
        "    while 1:\n",
        "        model, optimizer = train_epoch(train_loader, model, optimizer, epoch)\n",
        "        #checkpoint = {'epoch': epoch+1, 'state_dict': model.state_dict(),\n",
        "        #              'optimizer': optimizer.state_dict()}\n",
        "        #save_ckp(checkpoint, checkpoint_path)\n",
        "        #print(\"Checkpoint Saved\")\n",
        "        #model, optimizer, epoch = load_ckp(checkpoint_path, model, optimizer)\n",
        "        #print(\"Checkpoint Loaded\")\n",
        "        with torch.no_grad():\n",
        "            val_epoch(val_loader, model, optimizer, epoch)\n",
        "            test_epoch(test_loader, model, optimizer, epoch)"
      ],
      "execution_count": 20,
      "outputs": []
    },
    {
      "cell_type": "code",
      "metadata": {
        "id": "d80vuRX7nDFM"
      },
      "source": [
        "def main():\n",
        "\n",
        "    parent_folder = \"/content/IMAGE_SUPER_RESOLVE_DATA\"\n",
        "    extracted_data_folder = os.path.join(parent_folder, \"extracted_data\")\n",
        "    image_data_folder = os.path.join(extracted_data_folder, \"images\")\n",
        "    image_address_list = get_image_address(image_data_folder)\n",
        "    random.shuffle(image_address_list)\n",
        "\n",
        "    train_img_addr_list = image_address_list[:int(0.7*len(image_address_list))]\n",
        "    val_img_addr_list = image_address_list[len(train_img_addr_list):int(\n",
        "        len(train_img_addr_list) + 0.2*len(image_address_list))]\n",
        "    test_img_addr_list = image_address_list[len(\n",
        "        train_img_addr_list) + len(val_img_addr_list):]\n",
        "\n",
        "    print(\"Total Number of Images : \", len(image_address_list))\n",
        "    print(\"Train : {} Val : {} Test : {}\".format(\n",
        "        len(train_img_addr_list), len(val_img_addr_list), len(test_img_addr_list)))\n",
        "\n",
        "    train_loader = load_data(\n",
        "        train_img_addr_list, batch_size=2, num_workers=2, shuffle=True)\n",
        "    val_loader = load_data(val_img_addr_list, batch_size=2,\n",
        "                           num_workers=10, shuffle=True)\n",
        "    test_loader = load_data(\n",
        "        test_img_addr_list, batch_size=1, num_workers=10, shuffle=False)\n",
        "\n",
        "    model = Image_Super_Resolve()\n",
        "    model = model.to(device)\n",
        "    optimizer = optim.Adam(\n",
        "        [p for p in model.parameters() if p.requires_grad], lr=0.01)\n",
        "    n_epoch = 100\n",
        "    resume = False\n",
        "    train_val_test(train_loader, val_loader, test_loader,\n",
        "                   model, optimizer, n_epoch, resume)"
      ],
      "execution_count": 18,
      "outputs": []
    },
    {
      "cell_type": "code",
      "metadata": {
        "colab": {
          "base_uri": "https://localhost:8080/",
          "height": 564
        },
        "id": "R8TmBvZEDTp6",
        "outputId": "23ae5eb2-6fc5-4111-c6c5-459913f9b8e5"
      },
      "source": [
        "main()"
      ],
      "execution_count": 19,
      "outputs": [
        {
          "output_type": "stream",
          "text": [
            "Number of Files :  7390\n",
            "Number of Files after removing :  7384\n",
            "Total Number of Images :  7384\n",
            "Train : 5168 Val : 1476 Test : 740\n"
          ],
          "name": "stdout"
        },
        {
          "output_type": "stream",
          "text": [
            "/usr/local/lib/python3.7/dist-packages/torch/utils/data/dataloader.py:481: UserWarning: This DataLoader will create 10 worker processes in total. Our suggested max number of worker in current system is 2, which is smaller than what this DataLoader is going to create. Please be aware that excessive worker creation might get DataLoader running slow or even freeze, lower the worker number to avoid potential slowness/freeze if necessary.\n",
            "  cpuset_checked))\n",
            "Epoch : 0 Training Loss : 0.06547795236110687 : : 89it [00:31,  2.84it/s]\n"
          ],
          "name": "stderr"
        },
        {
          "output_type": "error",
          "ename": "RuntimeError",
          "evalue": "ignored",
          "traceback": [
            "\u001b[0;31m---------------------------------------------------------------------------\u001b[0m",
            "\u001b[0;31mFileNotFoundError\u001b[0m                         Traceback (most recent call last)",
            "\u001b[0;32m/usr/local/lib/python3.7/dist-packages/torch/utils/data/dataloader.py\u001b[0m in \u001b[0;36m_try_get_data\u001b[0;34m(self, timeout)\u001b[0m\n\u001b[1;32m    989\u001b[0m         \u001b[0;32mtry\u001b[0m\u001b[0;34m:\u001b[0m\u001b[0;34m\u001b[0m\u001b[0;34m\u001b[0m\u001b[0m\n\u001b[0;32m--> 990\u001b[0;31m             \u001b[0mdata\u001b[0m \u001b[0;34m=\u001b[0m \u001b[0mself\u001b[0m\u001b[0;34m.\u001b[0m\u001b[0m_data_queue\u001b[0m\u001b[0;34m.\u001b[0m\u001b[0mget\u001b[0m\u001b[0;34m(\u001b[0m\u001b[0mtimeout\u001b[0m\u001b[0;34m=\u001b[0m\u001b[0mtimeout\u001b[0m\u001b[0;34m)\u001b[0m\u001b[0;34m\u001b[0m\u001b[0;34m\u001b[0m\u001b[0m\n\u001b[0m\u001b[1;32m    991\u001b[0m             \u001b[0;32mreturn\u001b[0m \u001b[0;34m(\u001b[0m\u001b[0;32mTrue\u001b[0m\u001b[0;34m,\u001b[0m \u001b[0mdata\u001b[0m\u001b[0;34m)\u001b[0m\u001b[0;34m\u001b[0m\u001b[0;34m\u001b[0m\u001b[0m\n",
            "\u001b[0;32m/usr/lib/python3.7/multiprocessing/queues.py\u001b[0m in \u001b[0;36mget\u001b[0;34m(self, block, timeout)\u001b[0m\n\u001b[1;32m    112\u001b[0m         \u001b[0;31m# unserialize the data after having released the lock\u001b[0m\u001b[0;34m\u001b[0m\u001b[0;34m\u001b[0m\u001b[0;34m\u001b[0m\u001b[0m\n\u001b[0;32m--> 113\u001b[0;31m         \u001b[0;32mreturn\u001b[0m \u001b[0m_ForkingPickler\u001b[0m\u001b[0;34m.\u001b[0m\u001b[0mloads\u001b[0m\u001b[0;34m(\u001b[0m\u001b[0mres\u001b[0m\u001b[0;34m)\u001b[0m\u001b[0;34m\u001b[0m\u001b[0;34m\u001b[0m\u001b[0m\n\u001b[0m\u001b[1;32m    114\u001b[0m \u001b[0;34m\u001b[0m\u001b[0m\n",
            "\u001b[0;32m/usr/local/lib/python3.7/dist-packages/torch/multiprocessing/reductions.py\u001b[0m in \u001b[0;36mrebuild_storage_fd\u001b[0;34m(cls, df, size)\u001b[0m\n\u001b[1;32m    288\u001b[0m \u001b[0;32mdef\u001b[0m \u001b[0mrebuild_storage_fd\u001b[0m\u001b[0;34m(\u001b[0m\u001b[0mcls\u001b[0m\u001b[0;34m,\u001b[0m \u001b[0mdf\u001b[0m\u001b[0;34m,\u001b[0m \u001b[0msize\u001b[0m\u001b[0;34m)\u001b[0m\u001b[0;34m:\u001b[0m\u001b[0;34m\u001b[0m\u001b[0;34m\u001b[0m\u001b[0m\n\u001b[0;32m--> 289\u001b[0;31m     \u001b[0mfd\u001b[0m \u001b[0;34m=\u001b[0m \u001b[0mdf\u001b[0m\u001b[0;34m.\u001b[0m\u001b[0mdetach\u001b[0m\u001b[0;34m(\u001b[0m\u001b[0;34m)\u001b[0m\u001b[0;34m\u001b[0m\u001b[0;34m\u001b[0m\u001b[0m\n\u001b[0m\u001b[1;32m    290\u001b[0m     \u001b[0;32mtry\u001b[0m\u001b[0;34m:\u001b[0m\u001b[0;34m\u001b[0m\u001b[0;34m\u001b[0m\u001b[0m\n",
            "\u001b[0;32m/usr/lib/python3.7/multiprocessing/resource_sharer.py\u001b[0m in \u001b[0;36mdetach\u001b[0;34m(self)\u001b[0m\n\u001b[1;32m     56\u001b[0m             \u001b[0;34m'''Get the fd.  This should only be called once.'''\u001b[0m\u001b[0;34m\u001b[0m\u001b[0;34m\u001b[0m\u001b[0m\n\u001b[0;32m---> 57\u001b[0;31m             \u001b[0;32mwith\u001b[0m \u001b[0m_resource_sharer\u001b[0m\u001b[0;34m.\u001b[0m\u001b[0mget_connection\u001b[0m\u001b[0;34m(\u001b[0m\u001b[0mself\u001b[0m\u001b[0;34m.\u001b[0m\u001b[0m_id\u001b[0m\u001b[0;34m)\u001b[0m \u001b[0;32mas\u001b[0m \u001b[0mconn\u001b[0m\u001b[0;34m:\u001b[0m\u001b[0;34m\u001b[0m\u001b[0;34m\u001b[0m\u001b[0m\n\u001b[0m\u001b[1;32m     58\u001b[0m                 \u001b[0;32mreturn\u001b[0m \u001b[0mreduction\u001b[0m\u001b[0;34m.\u001b[0m\u001b[0mrecv_handle\u001b[0m\u001b[0;34m(\u001b[0m\u001b[0mconn\u001b[0m\u001b[0;34m)\u001b[0m\u001b[0;34m\u001b[0m\u001b[0;34m\u001b[0m\u001b[0m\n",
            "\u001b[0;32m/usr/lib/python3.7/multiprocessing/resource_sharer.py\u001b[0m in \u001b[0;36mget_connection\u001b[0;34m(ident)\u001b[0m\n\u001b[1;32m     86\u001b[0m         \u001b[0maddress\u001b[0m\u001b[0;34m,\u001b[0m \u001b[0mkey\u001b[0m \u001b[0;34m=\u001b[0m \u001b[0mident\u001b[0m\u001b[0;34m\u001b[0m\u001b[0;34m\u001b[0m\u001b[0m\n\u001b[0;32m---> 87\u001b[0;31m         \u001b[0mc\u001b[0m \u001b[0;34m=\u001b[0m \u001b[0mClient\u001b[0m\u001b[0;34m(\u001b[0m\u001b[0maddress\u001b[0m\u001b[0;34m,\u001b[0m \u001b[0mauthkey\u001b[0m\u001b[0;34m=\u001b[0m\u001b[0mprocess\u001b[0m\u001b[0;34m.\u001b[0m\u001b[0mcurrent_process\u001b[0m\u001b[0;34m(\u001b[0m\u001b[0;34m)\u001b[0m\u001b[0;34m.\u001b[0m\u001b[0mauthkey\u001b[0m\u001b[0;34m)\u001b[0m\u001b[0;34m\u001b[0m\u001b[0;34m\u001b[0m\u001b[0m\n\u001b[0m\u001b[1;32m     88\u001b[0m         \u001b[0mc\u001b[0m\u001b[0;34m.\u001b[0m\u001b[0msend\u001b[0m\u001b[0;34m(\u001b[0m\u001b[0;34m(\u001b[0m\u001b[0mkey\u001b[0m\u001b[0;34m,\u001b[0m \u001b[0mos\u001b[0m\u001b[0;34m.\u001b[0m\u001b[0mgetpid\u001b[0m\u001b[0;34m(\u001b[0m\u001b[0;34m)\u001b[0m\u001b[0;34m)\u001b[0m\u001b[0;34m)\u001b[0m\u001b[0;34m\u001b[0m\u001b[0;34m\u001b[0m\u001b[0m\n",
            "\u001b[0;32m/usr/lib/python3.7/multiprocessing/connection.py\u001b[0m in \u001b[0;36mClient\u001b[0;34m(address, family, authkey)\u001b[0m\n\u001b[1;32m    491\u001b[0m     \u001b[0;32melse\u001b[0m\u001b[0;34m:\u001b[0m\u001b[0;34m\u001b[0m\u001b[0;34m\u001b[0m\u001b[0m\n\u001b[0;32m--> 492\u001b[0;31m         \u001b[0mc\u001b[0m \u001b[0;34m=\u001b[0m \u001b[0mSocketClient\u001b[0m\u001b[0;34m(\u001b[0m\u001b[0maddress\u001b[0m\u001b[0;34m)\u001b[0m\u001b[0;34m\u001b[0m\u001b[0;34m\u001b[0m\u001b[0m\n\u001b[0m\u001b[1;32m    493\u001b[0m \u001b[0;34m\u001b[0m\u001b[0m\n",
            "\u001b[0;32m/usr/lib/python3.7/multiprocessing/connection.py\u001b[0m in \u001b[0;36mSocketClient\u001b[0;34m(address)\u001b[0m\n\u001b[1;32m    619\u001b[0m         \u001b[0ms\u001b[0m\u001b[0;34m.\u001b[0m\u001b[0msetblocking\u001b[0m\u001b[0;34m(\u001b[0m\u001b[0;32mTrue\u001b[0m\u001b[0;34m)\u001b[0m\u001b[0;34m\u001b[0m\u001b[0;34m\u001b[0m\u001b[0m\n\u001b[0;32m--> 620\u001b[0;31m         \u001b[0ms\u001b[0m\u001b[0;34m.\u001b[0m\u001b[0mconnect\u001b[0m\u001b[0;34m(\u001b[0m\u001b[0maddress\u001b[0m\u001b[0;34m)\u001b[0m\u001b[0;34m\u001b[0m\u001b[0;34m\u001b[0m\u001b[0m\n\u001b[0m\u001b[1;32m    621\u001b[0m         \u001b[0;32mreturn\u001b[0m \u001b[0mConnection\u001b[0m\u001b[0;34m(\u001b[0m\u001b[0ms\u001b[0m\u001b[0;34m.\u001b[0m\u001b[0mdetach\u001b[0m\u001b[0;34m(\u001b[0m\u001b[0;34m)\u001b[0m\u001b[0;34m)\u001b[0m\u001b[0;34m\u001b[0m\u001b[0;34m\u001b[0m\u001b[0m\n",
            "\u001b[0;31mFileNotFoundError\u001b[0m: [Errno 2] No such file or directory",
            "\nThe above exception was the direct cause of the following exception:\n",
            "\u001b[0;31mRuntimeError\u001b[0m                              Traceback (most recent call last)",
            "\u001b[0;32m<ipython-input-19-263240bbee7e>\u001b[0m in \u001b[0;36m<module>\u001b[0;34m()\u001b[0m\n\u001b[0;32m----> 1\u001b[0;31m \u001b[0mmain\u001b[0m\u001b[0;34m(\u001b[0m\u001b[0;34m)\u001b[0m\u001b[0;34m\u001b[0m\u001b[0;34m\u001b[0m\u001b[0m\n\u001b[0m",
            "\u001b[0;32m<ipython-input-18-f10128d20286>\u001b[0m in \u001b[0;36mmain\u001b[0;34m()\u001b[0m\n\u001b[1;32m     31\u001b[0m     \u001b[0mresume\u001b[0m \u001b[0;34m=\u001b[0m \u001b[0;32mFalse\u001b[0m\u001b[0;34m\u001b[0m\u001b[0;34m\u001b[0m\u001b[0m\n\u001b[1;32m     32\u001b[0m     train_val_test(train_loader, val_loader, test_loader,\n\u001b[0;32m---> 33\u001b[0;31m                    model, optimizer, n_epoch, resume)\n\u001b[0m",
            "\u001b[0;32m<ipython-input-17-4e6b869857e3>\u001b[0m in \u001b[0;36mtrain_val_test\u001b[0;34m(train_loader, val_loader, test_loader, model, optimizer, n_epoch, resume)\u001b[0m\n\u001b[1;32m      9\u001b[0m \u001b[0;34m\u001b[0m\u001b[0m\n\u001b[1;32m     10\u001b[0m     \u001b[0;32mwhile\u001b[0m \u001b[0;36m1\u001b[0m\u001b[0;34m:\u001b[0m\u001b[0;34m\u001b[0m\u001b[0;34m\u001b[0m\u001b[0m\n\u001b[0;32m---> 11\u001b[0;31m         \u001b[0mmodel\u001b[0m\u001b[0;34m,\u001b[0m \u001b[0moptimizer\u001b[0m \u001b[0;34m=\u001b[0m \u001b[0mtrain_epoch\u001b[0m\u001b[0;34m(\u001b[0m\u001b[0mtrain_loader\u001b[0m\u001b[0;34m,\u001b[0m \u001b[0mmodel\u001b[0m\u001b[0;34m,\u001b[0m \u001b[0moptimizer\u001b[0m\u001b[0;34m,\u001b[0m \u001b[0mepoch\u001b[0m\u001b[0;34m)\u001b[0m\u001b[0;34m\u001b[0m\u001b[0;34m\u001b[0m\u001b[0m\n\u001b[0m\u001b[1;32m     12\u001b[0m         checkpoint = {'epoch': epoch+1, 'state_dict': model.state_dict(),\n\u001b[1;32m     13\u001b[0m                       'optimizer': optimizer.state_dict()}\n",
            "\u001b[0;32m<ipython-input-14-c536747109d4>\u001b[0m in \u001b[0;36mtrain_epoch\u001b[0;34m(train_loader, model, optimizer, epoch)\u001b[0m\n\u001b[1;32m      3\u001b[0m     \u001b[0mprogress_bar\u001b[0m \u001b[0;34m=\u001b[0m \u001b[0mtqdm\u001b[0m\u001b[0;34m(\u001b[0m\u001b[0menumerate\u001b[0m\u001b[0;34m(\u001b[0m\u001b[0mtrain_loader\u001b[0m\u001b[0;34m)\u001b[0m\u001b[0;34m)\u001b[0m\u001b[0;34m\u001b[0m\u001b[0;34m\u001b[0m\u001b[0m\n\u001b[1;32m      4\u001b[0m     \u001b[0mtotal_loss\u001b[0m \u001b[0;34m=\u001b[0m \u001b[0;36m0.0\u001b[0m\u001b[0;34m\u001b[0m\u001b[0;34m\u001b[0m\u001b[0m\n\u001b[0;32m----> 5\u001b[0;31m     \u001b[0;32mfor\u001b[0m \u001b[0mstep\u001b[0m\u001b[0;34m,\u001b[0m \u001b[0;34m(\u001b[0m\u001b[0mhigh_res_img\u001b[0m\u001b[0;34m,\u001b[0m \u001b[0mlow_res_img\u001b[0m\u001b[0;34m)\u001b[0m \u001b[0;32min\u001b[0m \u001b[0mprogress_bar\u001b[0m\u001b[0;34m:\u001b[0m\u001b[0;34m\u001b[0m\u001b[0;34m\u001b[0m\u001b[0m\n\u001b[0m\u001b[1;32m      6\u001b[0m \u001b[0;34m\u001b[0m\u001b[0m\n\u001b[1;32m      7\u001b[0m         \u001b[0;32mtry\u001b[0m \u001b[0;34m:\u001b[0m\u001b[0;34m\u001b[0m\u001b[0;34m\u001b[0m\u001b[0m\n",
            "\u001b[0;32m/usr/local/lib/python3.7/dist-packages/tqdm/std.py\u001b[0m in \u001b[0;36m__iter__\u001b[0;34m(self)\u001b[0m\n\u001b[1;32m   1183\u001b[0m \u001b[0;34m\u001b[0m\u001b[0m\n\u001b[1;32m   1184\u001b[0m         \u001b[0;32mtry\u001b[0m\u001b[0;34m:\u001b[0m\u001b[0;34m\u001b[0m\u001b[0;34m\u001b[0m\u001b[0m\n\u001b[0;32m-> 1185\u001b[0;31m             \u001b[0;32mfor\u001b[0m \u001b[0mobj\u001b[0m \u001b[0;32min\u001b[0m \u001b[0miterable\u001b[0m\u001b[0;34m:\u001b[0m\u001b[0;34m\u001b[0m\u001b[0;34m\u001b[0m\u001b[0m\n\u001b[0m\u001b[1;32m   1186\u001b[0m                 \u001b[0;32myield\u001b[0m \u001b[0mobj\u001b[0m\u001b[0;34m\u001b[0m\u001b[0;34m\u001b[0m\u001b[0m\n\u001b[1;32m   1187\u001b[0m                 \u001b[0;31m# Update and possibly print the progressbar.\u001b[0m\u001b[0;34m\u001b[0m\u001b[0;34m\u001b[0m\u001b[0;34m\u001b[0m\u001b[0m\n",
            "\u001b[0;32m/usr/local/lib/python3.7/dist-packages/torch/utils/data/dataloader.py\u001b[0m in \u001b[0;36m__next__\u001b[0;34m(self)\u001b[0m\n\u001b[1;32m    519\u001b[0m             \u001b[0;32mif\u001b[0m \u001b[0mself\u001b[0m\u001b[0;34m.\u001b[0m\u001b[0m_sampler_iter\u001b[0m \u001b[0;32mis\u001b[0m \u001b[0;32mNone\u001b[0m\u001b[0;34m:\u001b[0m\u001b[0;34m\u001b[0m\u001b[0;34m\u001b[0m\u001b[0m\n\u001b[1;32m    520\u001b[0m                 \u001b[0mself\u001b[0m\u001b[0;34m.\u001b[0m\u001b[0m_reset\u001b[0m\u001b[0;34m(\u001b[0m\u001b[0;34m)\u001b[0m\u001b[0;34m\u001b[0m\u001b[0;34m\u001b[0m\u001b[0m\n\u001b[0;32m--> 521\u001b[0;31m             \u001b[0mdata\u001b[0m \u001b[0;34m=\u001b[0m \u001b[0mself\u001b[0m\u001b[0;34m.\u001b[0m\u001b[0m_next_data\u001b[0m\u001b[0;34m(\u001b[0m\u001b[0;34m)\u001b[0m\u001b[0;34m\u001b[0m\u001b[0;34m\u001b[0m\u001b[0m\n\u001b[0m\u001b[1;32m    522\u001b[0m             \u001b[0mself\u001b[0m\u001b[0;34m.\u001b[0m\u001b[0m_num_yielded\u001b[0m \u001b[0;34m+=\u001b[0m \u001b[0;36m1\u001b[0m\u001b[0;34m\u001b[0m\u001b[0;34m\u001b[0m\u001b[0m\n\u001b[1;32m    523\u001b[0m             \u001b[0;32mif\u001b[0m \u001b[0mself\u001b[0m\u001b[0;34m.\u001b[0m\u001b[0m_dataset_kind\u001b[0m \u001b[0;34m==\u001b[0m \u001b[0m_DatasetKind\u001b[0m\u001b[0;34m.\u001b[0m\u001b[0mIterable\u001b[0m \u001b[0;32mand\u001b[0m\u001b[0;31m \u001b[0m\u001b[0;31m\\\u001b[0m\u001b[0;34m\u001b[0m\u001b[0;34m\u001b[0m\u001b[0m\n",
            "\u001b[0;32m/usr/local/lib/python3.7/dist-packages/torch/utils/data/dataloader.py\u001b[0m in \u001b[0;36m_next_data\u001b[0;34m(self)\u001b[0m\n\u001b[1;32m   1184\u001b[0m \u001b[0;34m\u001b[0m\u001b[0m\n\u001b[1;32m   1185\u001b[0m             \u001b[0;32massert\u001b[0m \u001b[0;32mnot\u001b[0m \u001b[0mself\u001b[0m\u001b[0;34m.\u001b[0m\u001b[0m_shutdown\u001b[0m \u001b[0;32mand\u001b[0m \u001b[0mself\u001b[0m\u001b[0;34m.\u001b[0m\u001b[0m_tasks_outstanding\u001b[0m \u001b[0;34m>\u001b[0m \u001b[0;36m0\u001b[0m\u001b[0;34m\u001b[0m\u001b[0;34m\u001b[0m\u001b[0m\n\u001b[0;32m-> 1186\u001b[0;31m             \u001b[0midx\u001b[0m\u001b[0;34m,\u001b[0m \u001b[0mdata\u001b[0m \u001b[0;34m=\u001b[0m \u001b[0mself\u001b[0m\u001b[0;34m.\u001b[0m\u001b[0m_get_data\u001b[0m\u001b[0;34m(\u001b[0m\u001b[0;34m)\u001b[0m\u001b[0;34m\u001b[0m\u001b[0;34m\u001b[0m\u001b[0m\n\u001b[0m\u001b[1;32m   1187\u001b[0m             \u001b[0mself\u001b[0m\u001b[0;34m.\u001b[0m\u001b[0m_tasks_outstanding\u001b[0m \u001b[0;34m-=\u001b[0m \u001b[0;36m1\u001b[0m\u001b[0;34m\u001b[0m\u001b[0;34m\u001b[0m\u001b[0m\n\u001b[1;32m   1188\u001b[0m             \u001b[0;32mif\u001b[0m \u001b[0mself\u001b[0m\u001b[0;34m.\u001b[0m\u001b[0m_dataset_kind\u001b[0m \u001b[0;34m==\u001b[0m \u001b[0m_DatasetKind\u001b[0m\u001b[0;34m.\u001b[0m\u001b[0mIterable\u001b[0m\u001b[0;34m:\u001b[0m\u001b[0;34m\u001b[0m\u001b[0;34m\u001b[0m\u001b[0m\n",
            "\u001b[0;32m/usr/local/lib/python3.7/dist-packages/torch/utils/data/dataloader.py\u001b[0m in \u001b[0;36m_get_data\u001b[0;34m(self)\u001b[0m\n\u001b[1;32m   1150\u001b[0m         \u001b[0;32melse\u001b[0m\u001b[0;34m:\u001b[0m\u001b[0;34m\u001b[0m\u001b[0;34m\u001b[0m\u001b[0m\n\u001b[1;32m   1151\u001b[0m             \u001b[0;32mwhile\u001b[0m \u001b[0;32mTrue\u001b[0m\u001b[0;34m:\u001b[0m\u001b[0;34m\u001b[0m\u001b[0;34m\u001b[0m\u001b[0m\n\u001b[0;32m-> 1152\u001b[0;31m                 \u001b[0msuccess\u001b[0m\u001b[0;34m,\u001b[0m \u001b[0mdata\u001b[0m \u001b[0;34m=\u001b[0m \u001b[0mself\u001b[0m\u001b[0;34m.\u001b[0m\u001b[0m_try_get_data\u001b[0m\u001b[0;34m(\u001b[0m\u001b[0;34m)\u001b[0m\u001b[0;34m\u001b[0m\u001b[0;34m\u001b[0m\u001b[0m\n\u001b[0m\u001b[1;32m   1153\u001b[0m                 \u001b[0;32mif\u001b[0m \u001b[0msuccess\u001b[0m\u001b[0;34m:\u001b[0m\u001b[0;34m\u001b[0m\u001b[0;34m\u001b[0m\u001b[0m\n\u001b[1;32m   1154\u001b[0m                     \u001b[0;32mreturn\u001b[0m \u001b[0mdata\u001b[0m\u001b[0;34m\u001b[0m\u001b[0;34m\u001b[0m\u001b[0m\n",
            "\u001b[0;32m/usr/local/lib/python3.7/dist-packages/torch/utils/data/dataloader.py\u001b[0m in \u001b[0;36m_try_get_data\u001b[0;34m(self, timeout)\u001b[0m\n\u001b[1;32m   1001\u001b[0m             \u001b[0;32mif\u001b[0m \u001b[0mlen\u001b[0m\u001b[0;34m(\u001b[0m\u001b[0mfailed_workers\u001b[0m\u001b[0;34m)\u001b[0m \u001b[0;34m>\u001b[0m \u001b[0;36m0\u001b[0m\u001b[0;34m:\u001b[0m\u001b[0;34m\u001b[0m\u001b[0;34m\u001b[0m\u001b[0m\n\u001b[1;32m   1002\u001b[0m                 \u001b[0mpids_str\u001b[0m \u001b[0;34m=\u001b[0m \u001b[0;34m', '\u001b[0m\u001b[0;34m.\u001b[0m\u001b[0mjoin\u001b[0m\u001b[0;34m(\u001b[0m\u001b[0mstr\u001b[0m\u001b[0;34m(\u001b[0m\u001b[0mw\u001b[0m\u001b[0;34m.\u001b[0m\u001b[0mpid\u001b[0m\u001b[0;34m)\u001b[0m \u001b[0;32mfor\u001b[0m \u001b[0mw\u001b[0m \u001b[0;32min\u001b[0m \u001b[0mfailed_workers\u001b[0m\u001b[0;34m)\u001b[0m\u001b[0;34m\u001b[0m\u001b[0;34m\u001b[0m\u001b[0m\n\u001b[0;32m-> 1003\u001b[0;31m                 \u001b[0;32mraise\u001b[0m \u001b[0mRuntimeError\u001b[0m\u001b[0;34m(\u001b[0m\u001b[0;34m'DataLoader worker (pid(s) {}) exited unexpectedly'\u001b[0m\u001b[0;34m.\u001b[0m\u001b[0mformat\u001b[0m\u001b[0;34m(\u001b[0m\u001b[0mpids_str\u001b[0m\u001b[0;34m)\u001b[0m\u001b[0;34m)\u001b[0m \u001b[0;32mfrom\u001b[0m \u001b[0me\u001b[0m\u001b[0;34m\u001b[0m\u001b[0;34m\u001b[0m\u001b[0m\n\u001b[0m\u001b[1;32m   1004\u001b[0m             \u001b[0;32mif\u001b[0m \u001b[0misinstance\u001b[0m\u001b[0;34m(\u001b[0m\u001b[0me\u001b[0m\u001b[0;34m,\u001b[0m \u001b[0mqueue\u001b[0m\u001b[0;34m.\u001b[0m\u001b[0mEmpty\u001b[0m\u001b[0;34m)\u001b[0m\u001b[0;34m:\u001b[0m\u001b[0;34m\u001b[0m\u001b[0;34m\u001b[0m\u001b[0m\n\u001b[1;32m   1005\u001b[0m                 \u001b[0;32mreturn\u001b[0m \u001b[0;34m(\u001b[0m\u001b[0;32mFalse\u001b[0m\u001b[0;34m,\u001b[0m \u001b[0;32mNone\u001b[0m\u001b[0;34m)\u001b[0m\u001b[0;34m\u001b[0m\u001b[0;34m\u001b[0m\u001b[0m\n",
            "\u001b[0;31mRuntimeError\u001b[0m: DataLoader worker (pid(s) 173, 175) exited unexpectedly"
          ]
        }
      ]
    }
  ]
}